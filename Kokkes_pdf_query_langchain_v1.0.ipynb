{
  "nbformat": 4,
  "nbformat_minor": 0,
  "metadata": {
    "colab": {
      "provenance": [],
      "include_colab_link": true
    },
    "kernelspec": {
      "name": "python3",
      "display_name": "Python 3"
    },
    "language_info": {
      "name": "python"
    }
  },
  "cells": [
    {
      "cell_type": "markdown",
      "metadata": {
        "id": "view-in-github",
        "colab_type": "text"
      },
      "source": [
        "<a href=\"https://colab.research.google.com/github/Kokit0/PDF-Extraction-and-Querying-using-LangChain-and-OpenAI-Embeddings/blob/main/Kokkes_pdf_query_langchain_v1.0.ipynb\" target=\"_parent\"><img src=\"https://colab.research.google.com/assets/colab-badge.svg\" alt=\"Open In Colab\"/></a>"
      ]
    },
    {
      "cell_type": "markdown",
      "source": [],
      "metadata": {
        "id": "fsS9n8RqdjEG"
      }
    },
    {
      "cell_type": "markdown",
      "source": [
        "## PDF Query Using Langchain"
      ],
      "metadata": {
        "id": "gBtk_tC8zmC1"
      }
    },
    {
      "cell_type": "markdown",
      "source": [
        "## Install necessary packages for our PDF querying adventure"
      ],
      "metadata": {
        "id": "yn1q2XMMe8O7"
      }
    },
    {
      "cell_type": "code",
      "execution_count": null,
      "metadata": {
        "colab": {
          "base_uri": "https://localhost:8080/"
        },
        "id": "5rdAYZepFhJM",
        "outputId": "7f06deee-bafa-4311-da93-c3c71e46ffa3"
      },
      "outputs": [
        {
          "output_type": "stream",
          "name": "stdout",
          "text": [
            "Collecting langchain\n",
            "  Downloading langchain-0.0.323-py3-none-any.whl (1.9 MB)\n",
            "\u001b[2K     \u001b[90m━━━━━━━━━━━━━━━━━━━━━━━━━━━━━━━━━━━━━━━━\u001b[0m \u001b[32m1.9/1.9 MB\u001b[0m \u001b[31m19.5 MB/s\u001b[0m eta \u001b[36m0:00:00\u001b[0m\n",
            "\u001b[?25hRequirement already satisfied: PyYAML>=5.3 in /usr/local/lib/python3.10/dist-packages (from langchain) (6.0.1)\n",
            "Requirement already satisfied: SQLAlchemy<3,>=1.4 in /usr/local/lib/python3.10/dist-packages (from langchain) (2.0.22)\n",
            "Requirement already satisfied: aiohttp<4.0.0,>=3.8.3 in /usr/local/lib/python3.10/dist-packages (from langchain) (3.8.6)\n",
            "Requirement already satisfied: anyio<4.0 in /usr/local/lib/python3.10/dist-packages (from langchain) (3.7.1)\n",
            "Requirement already satisfied: async-timeout<5.0.0,>=4.0.0 in /usr/local/lib/python3.10/dist-packages (from langchain) (4.0.3)\n",
            "Collecting dataclasses-json<0.7,>=0.5.7 (from langchain)\n",
            "  Downloading dataclasses_json-0.6.1-py3-none-any.whl (27 kB)\n",
            "Collecting jsonpatch<2.0,>=1.33 (from langchain)\n",
            "  Downloading jsonpatch-1.33-py2.py3-none-any.whl (12 kB)\n",
            "Collecting langsmith<0.1.0,>=0.0.43 (from langchain)\n",
            "  Downloading langsmith-0.0.51-py3-none-any.whl (41 kB)\n",
            "\u001b[2K     \u001b[90m━━━━━━━━━━━━━━━━━━━━━━━━━━━━━━━━━━━━━━━━\u001b[0m \u001b[32m42.0/42.0 kB\u001b[0m \u001b[31m3.6 MB/s\u001b[0m eta \u001b[36m0:00:00\u001b[0m\n",
            "\u001b[?25hRequirement already satisfied: numpy<2,>=1 in /usr/local/lib/python3.10/dist-packages (from langchain) (1.23.5)\n",
            "Requirement already satisfied: pydantic<3,>=1 in /usr/local/lib/python3.10/dist-packages (from langchain) (1.10.13)\n",
            "Requirement already satisfied: requests<3,>=2 in /usr/local/lib/python3.10/dist-packages (from langchain) (2.31.0)\n",
            "Requirement already satisfied: tenacity<9.0.0,>=8.1.0 in /usr/local/lib/python3.10/dist-packages (from langchain) (8.2.3)\n",
            "Requirement already satisfied: attrs>=17.3.0 in /usr/local/lib/python3.10/dist-packages (from aiohttp<4.0.0,>=3.8.3->langchain) (23.1.0)\n",
            "Requirement already satisfied: charset-normalizer<4.0,>=2.0 in /usr/local/lib/python3.10/dist-packages (from aiohttp<4.0.0,>=3.8.3->langchain) (3.3.0)\n",
            "Requirement already satisfied: multidict<7.0,>=4.5 in /usr/local/lib/python3.10/dist-packages (from aiohttp<4.0.0,>=3.8.3->langchain) (6.0.4)\n",
            "Requirement already satisfied: yarl<2.0,>=1.0 in /usr/local/lib/python3.10/dist-packages (from aiohttp<4.0.0,>=3.8.3->langchain) (1.9.2)\n",
            "Requirement already satisfied: frozenlist>=1.1.1 in /usr/local/lib/python3.10/dist-packages (from aiohttp<4.0.0,>=3.8.3->langchain) (1.4.0)\n",
            "Requirement already satisfied: aiosignal>=1.1.2 in /usr/local/lib/python3.10/dist-packages (from aiohttp<4.0.0,>=3.8.3->langchain) (1.3.1)\n",
            "Requirement already satisfied: idna>=2.8 in /usr/local/lib/python3.10/dist-packages (from anyio<4.0->langchain) (3.4)\n",
            "Requirement already satisfied: sniffio>=1.1 in /usr/local/lib/python3.10/dist-packages (from anyio<4.0->langchain) (1.3.0)\n",
            "Requirement already satisfied: exceptiongroup in /usr/local/lib/python3.10/dist-packages (from anyio<4.0->langchain) (1.1.3)\n",
            "Collecting marshmallow<4.0.0,>=3.18.0 (from dataclasses-json<0.7,>=0.5.7->langchain)\n",
            "  Downloading marshmallow-3.20.1-py3-none-any.whl (49 kB)\n",
            "\u001b[2K     \u001b[90m━━━━━━━━━━━━━━━━━━━━━━━━━━━━━━━━━━━━━━━━\u001b[0m \u001b[32m49.4/49.4 kB\u001b[0m \u001b[31m5.9 MB/s\u001b[0m eta \u001b[36m0:00:00\u001b[0m\n",
            "\u001b[?25hCollecting typing-inspect<1,>=0.4.0 (from dataclasses-json<0.7,>=0.5.7->langchain)\n",
            "  Downloading typing_inspect-0.9.0-py3-none-any.whl (8.8 kB)\n",
            "Collecting jsonpointer>=1.9 (from jsonpatch<2.0,>=1.33->langchain)\n",
            "  Downloading jsonpointer-2.4-py2.py3-none-any.whl (7.8 kB)\n",
            "Requirement already satisfied: typing-extensions>=4.2.0 in /usr/local/lib/python3.10/dist-packages (from pydantic<3,>=1->langchain) (4.5.0)\n",
            "Requirement already satisfied: urllib3<3,>=1.21.1 in /usr/local/lib/python3.10/dist-packages (from requests<3,>=2->langchain) (2.0.7)\n",
            "Requirement already satisfied: certifi>=2017.4.17 in /usr/local/lib/python3.10/dist-packages (from requests<3,>=2->langchain) (2023.7.22)\n",
            "Requirement already satisfied: greenlet!=0.4.17 in /usr/local/lib/python3.10/dist-packages (from SQLAlchemy<3,>=1.4->langchain) (3.0.0)\n",
            "Requirement already satisfied: packaging>=17.0 in /usr/local/lib/python3.10/dist-packages (from marshmallow<4.0.0,>=3.18.0->dataclasses-json<0.7,>=0.5.7->langchain) (23.2)\n",
            "Collecting mypy-extensions>=0.3.0 (from typing-inspect<1,>=0.4.0->dataclasses-json<0.7,>=0.5.7->langchain)\n",
            "  Downloading mypy_extensions-1.0.0-py3-none-any.whl (4.7 kB)\n",
            "Installing collected packages: mypy-extensions, marshmallow, jsonpointer, typing-inspect, langsmith, jsonpatch, dataclasses-json, langchain\n",
            "Successfully installed dataclasses-json-0.6.1 jsonpatch-1.33 jsonpointer-2.4 langchain-0.0.323 langsmith-0.0.51 marshmallow-3.20.1 mypy-extensions-1.0.0 typing-inspect-0.9.0\n",
            "Collecting openai\n",
            "  Downloading openai-0.28.1-py3-none-any.whl (76 kB)\n",
            "\u001b[2K     \u001b[90m━━━━━━━━━━━━━━━━━━━━━━━━━━━━━━━━━━━━━━━━\u001b[0m \u001b[32m77.0/77.0 kB\u001b[0m \u001b[31m2.0 MB/s\u001b[0m eta \u001b[36m0:00:00\u001b[0m\n",
            "\u001b[?25hRequirement already satisfied: requests>=2.20 in /usr/local/lib/python3.10/dist-packages (from openai) (2.31.0)\n",
            "Requirement already satisfied: tqdm in /usr/local/lib/python3.10/dist-packages (from openai) (4.66.1)\n",
            "Requirement already satisfied: aiohttp in /usr/local/lib/python3.10/dist-packages (from openai) (3.8.6)\n",
            "Requirement already satisfied: charset-normalizer<4,>=2 in /usr/local/lib/python3.10/dist-packages (from requests>=2.20->openai) (3.3.0)\n",
            "Requirement already satisfied: idna<4,>=2.5 in /usr/local/lib/python3.10/dist-packages (from requests>=2.20->openai) (3.4)\n",
            "Requirement already satisfied: urllib3<3,>=1.21.1 in /usr/local/lib/python3.10/dist-packages (from requests>=2.20->openai) (2.0.7)\n",
            "Requirement already satisfied: certifi>=2017.4.17 in /usr/local/lib/python3.10/dist-packages (from requests>=2.20->openai) (2023.7.22)\n",
            "Requirement already satisfied: attrs>=17.3.0 in /usr/local/lib/python3.10/dist-packages (from aiohttp->openai) (23.1.0)\n",
            "Requirement already satisfied: multidict<7.0,>=4.5 in /usr/local/lib/python3.10/dist-packages (from aiohttp->openai) (6.0.4)\n",
            "Requirement already satisfied: async-timeout<5.0,>=4.0.0a3 in /usr/local/lib/python3.10/dist-packages (from aiohttp->openai) (4.0.3)\n",
            "Requirement already satisfied: yarl<2.0,>=1.0 in /usr/local/lib/python3.10/dist-packages (from aiohttp->openai) (1.9.2)\n",
            "Requirement already satisfied: frozenlist>=1.1.1 in /usr/local/lib/python3.10/dist-packages (from aiohttp->openai) (1.4.0)\n",
            "Requirement already satisfied: aiosignal>=1.1.2 in /usr/local/lib/python3.10/dist-packages (from aiohttp->openai) (1.3.1)\n",
            "Installing collected packages: openai\n",
            "\u001b[31mERROR: pip's dependency resolver does not currently take into account all the packages that are installed. This behaviour is the source of the following dependency conflicts.\n",
            "llmx 0.0.15a0 requires cohere, which is not installed.\n",
            "llmx 0.0.15a0 requires tiktoken, which is not installed.\u001b[0m\u001b[31m\n",
            "\u001b[0mSuccessfully installed openai-0.28.1\n",
            "Collecting PyPDF2\n",
            "  Downloading pypdf2-3.0.1-py3-none-any.whl (232 kB)\n",
            "\u001b[2K     \u001b[90m━━━━━━━━━━━━━━━━━━━━━━━━━━━━━━━━━━━━━━━━\u001b[0m \u001b[32m232.6/232.6 kB\u001b[0m \u001b[31m3.4 MB/s\u001b[0m eta \u001b[36m0:00:00\u001b[0m\n",
            "\u001b[?25hInstalling collected packages: PyPDF2\n",
            "Successfully installed PyPDF2-3.0.1\n",
            "Collecting faiss-cpu\n",
            "  Downloading faiss_cpu-1.7.4-cp310-cp310-manylinux_2_17_x86_64.manylinux2014_x86_64.whl (17.6 MB)\n",
            "\u001b[2K     \u001b[90m━━━━━━━━━━━━━━━━━━━━━━━━━━━━━━━━━━━━━━━━\u001b[0m \u001b[32m17.6/17.6 MB\u001b[0m \u001b[31m33.4 MB/s\u001b[0m eta \u001b[36m0:00:00\u001b[0m\n",
            "\u001b[?25hInstalling collected packages: faiss-cpu\n",
            "Successfully installed faiss-cpu-1.7.4\n",
            "Collecting tiktoken\n",
            "  Downloading tiktoken-0.5.1-cp310-cp310-manylinux_2_17_x86_64.manylinux2014_x86_64.whl (2.0 MB)\n",
            "\u001b[2K     \u001b[90m━━━━━━━━━━━━━━━━━━━━━━━━━━━━━━━━━━━━━━━━\u001b[0m \u001b[32m2.0/2.0 MB\u001b[0m \u001b[31m9.7 MB/s\u001b[0m eta \u001b[36m0:00:00\u001b[0m\n",
            "\u001b[?25hRequirement already satisfied: regex>=2022.1.18 in /usr/local/lib/python3.10/dist-packages (from tiktoken) (2023.6.3)\n",
            "Requirement already satisfied: requests>=2.26.0 in /usr/local/lib/python3.10/dist-packages (from tiktoken) (2.31.0)\n",
            "Requirement already satisfied: charset-normalizer<4,>=2 in /usr/local/lib/python3.10/dist-packages (from requests>=2.26.0->tiktoken) (3.3.0)\n",
            "Requirement already satisfied: idna<4,>=2.5 in /usr/local/lib/python3.10/dist-packages (from requests>=2.26.0->tiktoken) (3.4)\n",
            "Requirement already satisfied: urllib3<3,>=1.21.1 in /usr/local/lib/python3.10/dist-packages (from requests>=2.26.0->tiktoken) (2.0.7)\n",
            "Requirement already satisfied: certifi>=2017.4.17 in /usr/local/lib/python3.10/dist-packages (from requests>=2.26.0->tiktoken) (2023.7.22)\n",
            "Installing collected packages: tiktoken\n",
            "\u001b[31mERROR: pip's dependency resolver does not currently take into account all the packages that are installed. This behaviour is the source of the following dependency conflicts.\n",
            "llmx 0.0.15a0 requires cohere, which is not installed.\u001b[0m\u001b[31m\n",
            "\u001b[0mSuccessfully installed tiktoken-0.5.1\n"
          ]
        }
      ],
      "source": [
        "!pip install langchain\n",
        "!pip install openai\n",
        "!pip install PyPDF2\n",
        "!pip install faiss-cpu\n",
        "!pip install tiktoken"
      ]
    },
    {
      "cell_type": "markdown",
      "source": [
        "## # Import the heroic libraries that power our PDF detective tools"
      ],
      "metadata": {
        "id": "xP1-3VjZdlf4"
      }
    },
    {
      "cell_type": "code",
      "source": [
        "from PyPDF2 import PdfReader\n",
        "from langchain.embeddings.openai import OpenAIEmbeddings\n",
        "from langchain.text_splitter import CharacterTextSplitter\n",
        "from langchain.vectorstores import FAISS\n",
        "import os\n",
        "from typing_extensions import Concatenate"
      ],
      "metadata": {
        "id": "v8fCmC-6Q3pP"
      },
      "execution_count": null,
      "outputs": []
    },
    {
      "cell_type": "code",
      "source": [
        "# Equip your trusty sidekick with the right keys\n",
        "os.environ[\"OPENAI_API_KEY\"] = \"\"\n",
        "os.environ[\"SERPAPI_API_KEY\"] = \"\""
      ],
      "metadata": {
        "id": "_aQ7ps_dRJOq"
      },
      "execution_count": null,
      "outputs": []
    },
    {
      "cell_type": "code",
      "source": [
        "# Prepare to decode the hidden messages in your PDF documents\n",
        "pdfreader = PdfReader('budget_speech.pdf')"
      ],
      "metadata": {
        "id": "_FA1ZERdRLAM"
      },
      "execution_count": null,
      "outputs": []
    },
    {
      "cell_type": "code",
      "source": [
        "# Unleash your digital detective to extract clues from the PDF pages\n",
        "raw_text = ''\n",
        "for i, page in enumerate(pdfreader.pages):\n",
        "    content = page.extract_text()\n",
        "    if content:\n",
        "        raw_text += content"
      ],
      "metadata": {
        "id": "q9AeO9cDRqMj"
      },
      "execution_count": null,
      "outputs": []
    },
    {
      "cell_type": "markdown",
      "source": [
        "### Let's see a sample"
      ],
      "metadata": {
        "id": "H5Cwu6UNf-Ti"
      }
    },
    {
      "cell_type": "code",
      "source": [
        "raw_text"
      ],
      "metadata": {
        "colab": {
          "base_uri": "https://localhost:8080/",
          "height": 192
        },
        "id": "yGlxUMl-Rsmy",
        "outputId": "e248b48b-ffc3-457e-b1ba-406a41e1f86b"
      },
      "execution_count": null,
      "outputs": [
        {
          "output_type": "execute_result",
          "data": {
            "text/plain": [
              "\"GOVERNMENT OF INDIA\\nBUDGET 2023-2024\\nSPEECH\\nOF\\nNIRMALA SITHARAMAN\\nMINISTER OF FINANCE\\nFebruary 1,  2023CONTENTS \\nPART-A \\n Page No.  \\n\\uf0b7 Introduction 1 \\n\\uf0b7 Achievements since 2014: Leaving no one behind 2 \\n\\uf0b7 Vision for Amrit Kaal  – an empowered and inclusive economy 3 \\n\\uf0b7 Priorities of this Budget 5 \\ni. Inclusive Development  \\nii. Reaching the Last Mile \\niii. Infrastructure and Investment \\niv. Unleashing the Potential \\nv. Green Growth \\nvi. Youth Power  \\nvii. Financial Sector  \\n \\n \\n \\n \\n \\n \\n \\n \\n\\uf0b7 Fiscal Management 24 \\nPART B  \\n  \\nIndirect Taxes  27 \\n\\uf0b7 Green Mobility  \\n\\uf0b7 Electronics   \\n\\uf0b7 Electrical   \\n\\uf0b7 Chemicals and Petrochemicals   \\n\\uf0b7 Marine products  \\n\\uf0b7 Lab Grown Diamonds  \\n\\uf0b7 Precious Metals  \\n\\uf0b7 Metals  \\n\\uf0b7 Compounded Rubber  \\n\\uf0b7 Cigarettes  \\n  \\nDirect Taxes  30 \\n\\uf0b7 MSMEs and Professionals   \\n\\uf0b7 Cooperation  \\n\\uf0b7 Start-Ups  \\n\\uf0b7 Appeals  \\n\\uf0b7 Better targeting of tax concessions  \\n\\uf0b7 Rationalisation  \\n\\uf0b7 Others  \\n\\uf0b7 Personal Income Tax  \\n  \\nAnnexures  35 \\n\\uf0b7 Annexure to Part B of the Budget Speech 2023-24 \\ni. Amendments relating to Direct Taxes \\nii. Amendments relating to Indirect Taxes  \\n Budget 2023-2024 \\n \\nSpeech of  \\nNirmala Sitharaman \\nMinister of Finance \\nFebruary 1, 2023 \\nHon’ble Speaker,  \\n I present the Budget for 2023-24. This is the first Budget in Amrit \\nKaal . \\nIntroduction \\n1. This Budget hopes to build on the foundation laid in the previous \\nBudget, and the blueprint drawn for India@100. We envision a prosperous \\nand inclusive India, in which the fruits of development reach all regions and \\ncitizens, especially our youth, women, farmers, OBCs, Scheduled Castes and \\nScheduled Tribes.  \\n2. In the 75th year of our Independence, the world has recognised the \\nIndian economy as a ‘bright star’. Our current year’s economic growth is \\nestimated to be at 7 per cent. It is notable that this is the highest among all \\nthe major economies. This is in spite of the massive slowdown globally \\ncaused by Covid-19 and a war. The Indian economy is therefore on the right \\ntrack, and despite a time of challenges, heading towards a bright future.  \\n3. Today as Indians stands with their head held high, and the world \\nappreciates India’s achievements and successes, we are sure that elders \\nwho had fought for India’s independence, will with joy, bless us our \\nendeavors going forward. \\nResilience amidst multiple crises \\n4. Our focus on wide-ranging reforms and sound policies, implemented \\nthrough Sabka Prayas  resulting in Jan Bhagidari  and targeted support to \\nthose in need, helped us perform well in trying times. India’s rising global 2 \\n \\n \\n profile is because of several accomplishments: unique world class digital \\npublic infrastructure, e.g., Aadhaar, Co-Win and UPI; Covid vaccination drive \\nin unparalleled scale and speed; proactive role in frontier areas such as \\nachieving the climate related goals, mission LiFE, and National Hydrogen \\nMission.  \\n5. During the Covid-19 pandemic, we ensured that no one goes to bed \\nhungry, with a scheme to supply free food grains to over 80 crore persons \\nfor 28 months. Continuing our commitment to ensure food and nutritional \\nsecurity, we are implementing, from 1st January 2023, a scheme to supply \\nfree food grain to all Antyodaya and priority households for the next one \\nyear, under PM Garib Kalyan Anna Yojana (PMGKAY). The entire \\nexpenditure of about ` 2 lakh crore will be borne by the Central \\nGovernment. \\nG20 Presidency: Steering the global agenda through challenges \\n6. In these times of global challenges, the G20 Presidency gives us a \\nunique opportunity to strengthen India’s role in the world economic order. \\nWith the theme of ‘ Vasudhaiva Kutumbakam’ , we are steering an \\nambitious, people-centric agenda to address global challenges, and to \\nfacilitate sustainable economic development.  \\nAchievements since 2014: Leaving no one behind \\n7. The government’s efforts since 2014 have ensured for all citizens a \\nbetter quality of living and a life of dignity. The per capita income has more \\nthan doubled to ` 1.97 lakh.   \\n8. In these nine years, the Indian economy has increased in size from \\nbeing 10th to 5th largest in the world. We have significantly improved our \\nposition as a well-governed and innovative country with a conducive \\nenvironment for business as reflected in several global indices. We have \\nmade significant progress in many Sustainable Development Goals.  3 \\n \\n \\n 9. The economy has become a lot more formalised as reflected in the \\nEPFO membership more than doubling to 27 crore, and 7,400 crore digital \\npayments of ` 126 lakh crore through UPI in 2022.    \\n10. The efficient implementation of many schemes, with \\nuniversalisation of targeted benefits, has resulted in inclusive development. \\nSome of the schemes are: \\ni. 11.7 crore household toilets under Swachh Bharat Mission,  \\nii. 9.6 crore LPG connections under Ujjawala,  \\niii. 220 crore Covid vaccination of 102 crore persons,    \\niv. 47.8 crore PM Jan Dhan bank accounts, \\nv. Insurance cover for 44.6 crore persons under PM Suraksha \\nBima and PM Jeevan Jyoti Yojana, and \\nvi. Cash transfer of ` 2.2 lakh crore to over 11.4 crore farmers \\nunder PM Kisan Samman Nidhi. \\nVision for Amrit Kaal  – an empowered and inclusive economy \\n11. Our vision for the Amrit Kaal  includes technology-driven and \\nknowledge-based economy with strong public finances, and a robust \\nfinancial sector. To achieve this, Jan Bhagidari through Sabka Saath Sabka \\nPrayas  is essential.   \\n12. The economic agenda for achieving this vision focuses on three \\nthings: first, facilitating ample opportunities for citizens, especially the \\nyouth, to fulfil their aspirations; second, providing strong impetus to growth \\nand job creation; and third, strengthening macro-economic stability.    \\n13. To service these focus areas in our journey to India@100, we believe \\nthat the following four opportunities can be transformative during Amrit \\nKaal.  4 \\n \\n \\n 1) Economic Empowerment of Women : Deendayal Antyodaya Yojana \\nNational Rural Livelihood Mission has achieved remarkable success \\nby mobilizing rural women into 81 lakh Self Help Groups. We will \\nenable these groups to reach the next stage of economic \\nempowerment through formation of large producer enterprises or \\ncollectives with each having several thousand members and \\nmanaged professionally. They will be helped with supply of raw \\nmaterials and for better design, quality, branding and marketing of \\ntheir products. Through supporting policies, they will be enabled to \\nscale up their operations to serve the large consumer markets, as \\nhas been the case with several start-ups growing into ‘Unicorns’. \\n2) PM VIshwakarma KAushal Samman (PM VIKAS) : For centuries, \\ntraditional artisans and craftspeople, who work with their hands \\nusing tools, have brought renown for India. They are generally \\nreferred to as Vishwakarma. The art and handicraft created by them \\nrepresents the true spirit of Atmanirbhar Bharat. For the first time, a \\npackage of assistance for them has been conceptualized. The new \\nscheme will enable them to improve the quality, scale and reach of \\ntheir products, integrating them with the MSME value chain. The \\ncomponents of the scheme will include not only financial support \\nbut also access to advanced skill training, knowledge of modern \\ndigital techniques and efficient green technologies, brand \\npromotion, linkage with local and global markets, digital payments, \\nand social security. This will greatly benefit the Scheduled Castes, \\nScheduled Tribes, OBCs, women and people belonging to the weaker \\nsections.  \\n3) Tourism : The country offers immense attraction for domestic as well \\nas foreign tourists. There is a large potential to be tapped in tourism. \\nThe sector holds huge opportunities for jobs and entrepreneurship \\nfor youth in particular.  Promotion of tourism will be taken up on \\nmission mode, with active participation of states, convergence of \\ngovernment programmes and public-private partnerships. 5 \\n \\n \\n 4) Green Growth: We are implementing many programmes for green \\nfuel, green energy, green farming, green mobility, green buildings, \\nand green equipment, and policies for efficient use of energy across \\nvarious economic sectors. These green growth efforts help in \\nreducing carbon intensity of the economy and provides for large-\\nscale green job opportunities.  \\nPriorities of this Budget  \\n14. The Budget adopts the following seven priorities. They complement \\neach other and act as the ‘Saptarishi’  guiding us through the Amrit Kaal.  \\n1) Inclusive Development  \\n2) Reaching the Last Mile \\n3) Infrastructure and Investment \\n4) Unleashing the Potential \\n5) Green Growth \\n6) Youth Power  \\n7) Financial Sector \\nPriority 1: Inclusive Development  \\n15. The Government’s philosophy of Sabka Saath Sabka Vikas  has \\nfacilitated inclusive development covering in specific, farmers, women, \\nyouth, OBCs, Scheduled Castes, Scheduled Tribes, divyangjan and \\neconomically weaker sections, and overall priority for the underprivileged \\n(vanchiton ko variyata ). There has also been a sustained focus on Jammu & \\nKashmir, Ladakh and the North-East. This Budget builds on those efforts.  \\nAgriculture and Cooperation   \\nDigital Public Infrastructure for Agriculture \\n16. Digital public infrastructure for agriculture will be built as an open \\nsource, open standard and inter operable public good. This will enable 6 \\n \\n \\n inclusive, farmer-centric solutions through relevant information services for \\ncrop planning and health, improved access to farm inputs, credit, and \\ninsurance, help for crop estimation, market intelligence, and support for \\ngrowth of agri-tech industry and start-ups.  \\nAgriculture Accelerator Fund  \\n17. An Agriculture Accelerator Fund will be set-up to encourage agri-\\nstartups by young entrepreneurs in rural areas. The Fund will aim at \\nbringing innovative and affordable solutions for challenges faced by \\nfarmers. It will also bring in modern technologies to transform agricultural \\npractices, increase productivity and profitability. \\nEnhancing productivity of cotton crop  \\n18. To enhance the productivity of extra-long staple cotton, we will \\nadopt a cluster-based and value chain approach through Public Private \\nPartnerships (PPP). This will mean collaboration between farmers, state and \\nindustry for input supplies, extension services, and market linkages. \\nAtmanirbhar Horticulture Clean Plant Program  \\n19. We will launch an Atmanirbhar Clean Plant Program to boost \\navailability of disease-free, quality planting material for high value \\nhorticultural crops at an outlay of ` 2,200 crore. \\nGlobal Hub for Millets: ‘Shree Anna’  \\n20. “India is at the forefront of popularizing Millets, whose consumption \\nfurthers nutrition, food security and welfare of farmers,” said Hon’ble Prime \\nMinister. \\n21.  We are the largest producer and second largest exporter of ‘Shree \\nAnna’  in the world. We grow several types of ' Shree Anna'  such as  jowar, \\nragi, bajra, kuttu, ramdana, kangni, kutki, kodo, cheena, and sama. These \\nhave a number of health benefits, and have been an integral part of our \\nfood for centuries. I acknowledge with pride the huge service done by small 7 \\n \\n \\n farmers in contributing to the health of fellow citizens by growing these \\n‘Shree Anna’.   \\n22. Now to make India a global hub for ' Shree Anna' , the Indian Institute \\nof Millet Research, Hyderabad  will be supported as the Centre of Excellence \\nfor sharing best practices, research and technologies at the international \\nlevel.    \\nAgriculture Credit  \\n23. The agriculture credit target will be increased  \\nto ` 20 lakh crore with focus on animal husbandry, dairy and fisheries.  \\nFisheries \\n24. We will launch a new sub-scheme of PM Matsya Sampada Yojana \\nwith targeted investment of ` 6,000 crore to further enable activities of \\nfishermen, fish vendors, and micro & small enterprises, improve value chain \\nefficiencies, and expand the market. \\nCooperation \\n25. For farmers, especially small and marginal farmers, and other \\nmarginalised sections, the government is promoting cooperative-based \\neconomic development model. A new Ministry of Cooperation was formed \\nwith a mandate to realise the vision of ‘Sahakar Se Samriddhi’ . To realise \\nthis vision, the government has already initiated computerisation of 63,000 \\nPrimary Agricultural Credit Societies (PACS) with an investment of ` 2,516 \\ncrore. In consultation with all stakeholders and states, model bye-laws for \\nPACS were formulated enabling them to become multipurpose PACS. A \\nnational cooperative database is being prepared for country-wide mapping \\nof cooperative societies.  \\n26. With this backdrop, we will implement a plan to set up massive \\ndecentralised storage capacity. This will help farmers store their produce \\nand realize remunerative prices through sale at appropriate times. The \\ngovernment will also facilitate setting up of a large number of multipurpose 8 \\n \\n \\n cooperative societies, primary fishery societies and dairy cooperative \\nsocieties in uncovered panchayats and villages in the next 5 years.  \\nHealth, Education and Skilling \\nNursing Colleges    \\n27\\n. One hundred and fifty-seven new nursing colleges will be \\nestablished in co-location with the existing 157 medical colleges established \\nsince 2014. \\nSickle Cell Anaemia Elimination Mission  \\n28. A Mission to eliminate Sickle Cell Anaemia by 2047 will be launched. \\nIt will entail awareness creation, universal screening of 7 crore people in the \\nage group of 0-40 years in affected tribal areas, and counselling through \\ncollaborative efforts of central ministries and state governments.  \\nMedical Research  \\n29. Facilities in select ICMR Labs will be made available for research by \\npublic and private medical college faculty and private sector R&D teams for \\nencouraging collaborative research and innovation. \\nPharma Innovation  \\n30. A new programme to promote research and innovation in \\npharmaceuticals will be taken up through centers of excellence. We shall \\nalso encourage industry to invest in research and development in specific \\npriority areas.  \\nMultidisciplinary courses for medical devices \\n31. Dedicated multidisciplinary courses for medical devices will be \\nsupported in existing institutions to ensure availability of skilled manpower \\nfor futuristic medical technologies, high-end manufacturing and research.   \\n 9 \\n \\n \\n Teachers’ Training \\n32. Teachers’ training will be re-envisioned through innovative \\npedagogy, curriculum transaction, continuous professional development, \\ndipstick surveys, and ICT implementation. The District Institutes of \\nEducation and Training will be developed as vibrant institutes of excellence \\nfor this purpose.   \\nNational Digital Library for Children and Adolescents  \\n33. A National Digital Library for children and adolescents  will be set-up \\nfor facilitating availability of quality books across geographies, languages, \\ngenres and levels, and device agnostic accessibility. States will be \\nencouraged to set up physical libraries for them at panchayat and ward \\nlevels and provide infrastructure for accessing the National Digital Library \\nresources. \\n34. Additionally, to build a culture of reading, and to make up for \\npandemic-time learning loss, the National Book Trust, Children’s Book Trust \\nand other sources will be encouraged to provide and replenish non-\\ncurricular titles in regional languages and English to these physical libraries. \\nCollaboration with NGOs that work in literacy will also be a part of this \\ninitiative. To inculcate financial literacy, financial sector regulators and \\norganizations will be encouraged to provide age-appropriate reading \\nmaterial to these libraries.  \\nPriority 2: Reaching the Last Mile \\n35. Prime Minister Vajpayee’s government had formed the Ministry of \\nTribal Affairs and the Department of Development of North-Eastern Region. \\nTo provide a sharper focus to the objective of ‘reaching the last mile’, our \\ngovernment has formed the ministries of AYUSH, Fisheries, Animal \\nHusbandry and Dairying, Skill Development, Jal Shakti and Cooperation.  \\n \\n 10 \\n \\n \\n Aspirational Districts and Blocks Programme \\n36. Building on the success of the Aspirational Districts Programme, the \\nGovernment has recently launched the Aspirational Blocks Programme \\ncovering 500 blocks for saturation of essential government services across \\nmultiple domains such as health, nutrition, education, agriculture, water \\nresources, financial inclusion, skill development, and basic infrastructure. \\nPradhan Mantri PVTG Development Mission \\n37. To improve socio-economic conditions of the particularly vulnerable \\ntribal groups (PVTGs), Pradhan Mantri PVTG Development Mission will be \\nlaunched. This will saturate PVTG families and habitations with basic \\nfacilities such as safe housing, clean drinking water and sanitation, \\nimproved access to education, health and nutrition, road and telecom \\nconnectivity, and sustainable livelihood opportunities. An amount  \\nof ` 15,000 crore will be made available to implement the Mission in the \\nnext three years under the Development Action Plan for the Scheduled \\nTribes.  \\nEklavya Model Residential Schools \\n38. In the next three years, centre will recruit 38,800 teachers and \\nsupport staff for the 740 Eklavya Model Residential Schools, serving 3.5 lakh \\ntribal students. \\nWater for Drought Prone Region \\n39. In the drought prone central region of Karnataka, central assistance \\nof ` 5,300 crore will be given to Upper Bhadra Project to provide \\nsustainable micro irrigation and filling up of surface tanks for drinking \\nwater.  \\nPM Awas Yojana \\n40. The outlay for PM Awas Yojana is being enhanced \\n by 66 per cent to over ` 79,000 crore.  11 \\n \\n \\n Bharat Shared Repository of Inscriptions (Bharat  SHRI) \\n41. ‘Bharat Shared Repository of Inscriptions’ will be set up in a digital \\nepigraphy museum, with digitization of one lakh ancient inscriptions in the \\nfirst stage.   \\nSupport for poor prisoners \\n42. For poor persons who are in prisons and unable to afford the \\npenalty or the bail amount, required financial support will be provided.   \\n \\nPriority 3: Infrastructure & Investment \\n43. Investments in Infrastructure and productive capacity have a large \\nmultiplier impact on growth and employment. After the subdued period of \\nthe pandemic, private investments are growing again. The Budget takes the \\nlead once again to ramp up the virtuous cycle of investment and job \\ncreation.    \\n \\nCapital Investment as driver of growth and jobs \\n44. Capital investment outlay is being increased steeply for the third \\nyear in a row by 33 per cent to ` 10 lakh crore, which would be 3.3 per cent \\nof GDP. This will be almost three times the outlay in 2019-20.   \\n45. This substantial increase in recent years is central to the \\ngovernment’s efforts to enhance growth potential and job creation, crowd-\\nin private investments, and provide a cushion against global headwinds. \\nEffective Capital Expenditure  \\n46. The direct capital investment by the Centre is complemented by the \\nprovision made for creation of capital assets through Grants-in-Aid to \\nStates. The ‘Effective Capital Expenditure’ of the Centre is budgeted at  \\n` 13.7 lakh crore, which will be 4.5 per cent of GDP.    12 \\n \\n \\n Support to State Governments for Capital Investment \\n47. I have decided to continue the 50-year interest free loan to state \\ngovernments for one more year to spur investment in infrastructure and to \\nincentivize them for complementary policy actions, with a significantly \\nenhanced outlay of ` 1.3 lakh crore.   \\nEnhancing opportunities for private investment in Infrastructure \\n48. The newly established Infrastructure Finance Secretariat will assist \\nall stakeholders for more private investment in infrastructure, including \\nrailways, roads, urban infrastructure and power, which are predominantly \\ndependent on public resources.  \\nHarmonized Master List of Infrastructure \\n49. The Harmonized Master List of Infrastructure will be reviewed by an \\nexpert committee for recommending the classification and financing \\nframework suitable for Amrit Kaal . \\nRailways \\n50. A capital outlay of ` 2.40 lakh crore has been provided for the \\nRailways. This highest ever outlay is about 9 times the outlay made in 2013-\\n14.  \\nLogistics \\n51. One hundred critical transport infrastructure projects, for last and \\nfirst mile connectivity for ports, coal, steel, fertilizer, and food grains sectors \\nhave been identified. They will be taken up on priority with investment of \\n` 75,000 crore, including ` 15,000 crore from private sources. \\nRegional Connectivity \\n52. Fifty additional airports, heliports, water aerodromes and advance \\nlanding grounds will be revived for improving regional air connectivity.  \\n 13 \\n \\n \\n Sustainable Cities of Tomorrow \\n53. States and cities will be encouraged to undertake urban planning \\nreforms and actions to transform our cities into ‘sustainable cities of \\ntomorrow’. This means efficient use of land resources, adequate resources \\nfor urban infrastructure, transit-oriented development, enhanced \\navailability and affordability of urban land, and opportunities for all.  \\nMaking Cities ready for Municipal Bonds \\n54. Through property tax governance reforms and ring-fencing user \\ncharges on urban infrastructure, cities will be incentivized to improve their \\ncredit worthiness for municipal bonds.   \\nUrban Infrastructure Development Fund  \\n55. Like the RIDF, an Urban Infrastructure Development Fund (UIDF) will \\nbe established through use of priority sector lending shortfall. This will be \\nmanaged by the National Housing Bank, and will be used by public agencies \\nto create urban infrastructure in Tier 2 and Tier 3 cities. States will be \\nencouraged to leverage resources from the grants of the 15th Finance \\nCommission, as well as existing schemes, to adopt appropriate user charges \\nwhile accessing the UIDF. We expect to make  \\navailable ` 10,000 crore per annum for this purpose. \\nUrban Sanitation \\n56. All cities and towns will be enabled for 100 per cent mechanical \\ndesludging of septic tanks and sewers to transition from manhole to \\nmachine-hole mode. Enhanced focus will be provided for scientific \\nmanagement of dry and wet waste. \\nPriority 4: Unleashing the Potential \\n57. “Good Governance is the key to a nation’s progress. Our government \\nis committed to providing a transparent and accountable administration \\nwhich works for the betterment and welfare of the common citizen,”  said \\nHon’ble Prime Minister. 14 \\n \\n \\n Mission Karmayogi \\n58. Under Mission Karmayogi, Centre, States and Union Territories are \\nmaking and implementing capacity-building plans for civil servants. The \\ngovernment has also launched an integrated online training platform, iGOT \\nKarmayogi , to provide continuous learning opportunities for lakhs of \\ngovernment employees to upgrade their skills and facilitate people-centric \\napproach.   \\n59. For enhancing ease of doing business, more than  \\n39,000 compliances have been reduced and more than  \\n3,400 legal provisions have been decriminalized. For furthering the trust-\\nbased governance, we have introduced the Jan Vishwas Bill to amend 42 \\nCentral Acts. This Budget proposes a series of measures to unleash the \\npotential of our economy.  \\nCentres of Excellence for Artificial Intelligence \\n60. For realizing the vision of “Make AI in India and Make AI work for \\nIndia”,  three centres of excellence for Artificial Intelligence will be set-up in \\ntop educational institutions. Leading industry players will partner in \\nconducting interdisciplinary research, develop cutting-edge applications and \\nscalable problem solutions in the areas of agriculture, health, and \\nsustainable cities. This will galvanize an effective AI ecosystem and nurture \\nquality human resources in the field. \\nNational Data Governance Policy  \\n61. To unleash innovation and research by start-ups and academia, a \\nNational Data Governance Policy will be brought out. This will enable access \\nto anonymized data. \\nSimplification of Know Your Customer (KYC) process  \\n62. The KYC process will be simplified adopting a ‘risk-based’ instead of \\n‘one size fits all’ approach. The financial sector regulators will also be 15 \\n \\n \\n encouraged to have a KYC system fully amenable to meet the needs of \\nDigital India. \\nOne stop solution for identity and address updating  \\n63. A one stop solution for reconciliation and updating of identity and \\naddress of individuals maintained by various government agencies, \\nregulators and regulated entities will be established using DigiLocker service \\nand Aadhaar as foundational identity.    \\nCommon Business Identifier   \\n64. For the business establishments required to have a Permanent \\nAccount Number (PAN), the PAN will be used as the common identifier for \\nall digital systems of specified government agencies. This will bring ease of \\ndoing business; and it will be facilitated through a legal mandate. \\nUnified Filing Process \\n65. For obviating the need for separate submission of same information \\nto different government agencies, a system of ‘Unified Filing Process’ will be \\nset-up. Such filing of information or return in simplified forms on a common \\nportal, will be shared with other agencies as per filer’s choice.  \\nVivad se Vishwas I – Relief for MSMEs  \\n66. In cases of failure by MSMEs to execute contracts during the Covid \\nperiod, 95 per cent of the forfeited amount relating to bid or performance \\nsecurity, will be returned to them by government and government \\nundertakings.  This will provide relief to MSMEs.  \\nVivad se Vishwas II – Settling Contractual Disputes  \\n67. To settle contractual disputes of government and government \\nundertakings, wherein arbitral award is under challenge in a court, a \\nvoluntary settlement scheme with standardized terms will be introduced. \\nThis will be done by offering graded settlement terms depending on \\npendency level of the dispute. 16 \\n \\n \\n State Support Mission  \\n68. The State Support Mission of NITI Aayog will be continued for three \\nyears for our collective efforts towards national priorities. \\nResult Based Financing  \\n69. To better allocate scarce resources for competing development \\nneeds, the financing of select schemes will be changed, on a pilot basis, \\nfrom ‘input-based’ to ‘result-based’. \\nE-Courts  \\n70. For efficient administration of justice, Phase-3 of the \\n E-Courts project will be launched with an outlay  \\nof ` 7,000 crore.  \\nFintech Services  \\n71. Fintech services in India have been facilitated by our digital public \\ninfrastructure including Aadhaar, PM Jan Dhan Yojana, Video KYC, India \\nStack and UPI. To enable more Fintech innovative services, the scope of \\ndocuments available in DigiLocker for individuals will be expanded.  \\nEntity DigiLocker  \\n72. An Entity DigiLocker will be set up for use by MSMEs, large business \\nand charitable trusts. This will be towards storing and sharing documents \\nonline securely, whenever needed, with various authorities, regulators, \\nbanks and other business entities.  \\n5G Services  \\n73. One hundred labs for developing applications using  \\n5G services will be set up in engineering institutions to realise a new range \\nof opportunities, business models, and employment potential. The  labs will \\ncover, among others, applications such as smart classrooms, precision \\nfarming, intelligent transport systems, and health care applications.   17 \\n \\n \\n Lab Grown Diamonds  \\n74. Lab Grown Diamonds (LGD) is a technology-and innovation-driven \\nemerging sector with high employment potential. These environment-\\nfriendly diamonds which have optically and chemically the same properties \\nas natural diamonds. To encourage indigenous production of LGD seeds and \\nmachines and to reduce import dependency, a research and development \\ngrant will be provided to one of the IITs for five years.   \\n75. To reduce the cost of production, a proposal to review the custom \\nduty rate on LGD seeds will be indicated in Part B of the speech.   \\nPriority 5: Green Growth  \\n76. Hon’ble Prime Minister has given a vision for “LiFE”, or Lifestyle for \\nEnvironment, to spur a movement of environmentally conscious lifestyle. \\nIndia is moving forward firmly for the ‘panchamrit’  and net-zero carbon \\nemission by 2070 to usher in green industrial and economic transition. This \\nBudget builds on our focus on green growth.    \\nGreen Hydrogen Mission \\n77. The recently launched National Green Hydrogen Mission, with an \\noutlay of ` 19,700 crores, will facilitate transition of the economy to low \\ncarbon intensity, reduce dependence on fossil fuel imports, and make the \\ncountry assume technology and market leadership in this sunrise sector. \\nOur target is to reach an annual production of 5 MMT by 2030.  \\nEnergy Transition \\n78. This Budget provides ` 35,000 crore for priority capital investments \\ntowards energy transition and net zero objectives, and energy security by \\nMinistry of Petroleum & Natural Gas.  \\nEnergy Storage Projects \\n79. To steer the economy on the sustainable development path, Battery \\nEnergy Storage Systems with capacity of 4,000 MWH will be supported with 18 \\n \\n \\n Viability Gap Funding. A detailed framework for Pumped Storage Projects \\nwill also be formulated.  \\nRenewable Energy Evacuation \\n80. The Inter-state transmission system for evacuation and grid \\nintegration of 13 GW renewable energy from Ladakh will be constructed \\nwith investment of ` 20,700 crore including central support of ` 8,300 crore. \\nGreen Credit Programme \\n81. For encouraging behavioural change, a Green Credit Programme will \\nbe notified under the Environment (Protection) Act. This will incentivize \\nenvironmentally sustainable and responsive actions by companies, \\nindividuals and local bodies, and help mobilize additional resources for such \\nactivities.  \\nPM-PRANAM \\n82. “PM Programme for Restoration, Awareness, Nourishment and \\nAmelioration of Mother Earth” will be launched to incentivize States and \\nUnion Territories to promote alternative fertilizers and balanced use of \\nchemical fertilizers. \\nGOBARdhan scheme \\n83. 500 new ‘waste to wealth’ plants under GOBARdhan (Galvanizing \\nOrganic Bio-Agro Resources Dhan) scheme will be established for promoting \\ncircular economy. These will include 200 compressed biogas (CBG) plants, \\nincluding 75 plants in urban areas, and 300 community or cluster-based \\nplants at total investment of ` 10,000 crore. I will refer to this in Part B. In \\ndue course, a 5 per cent CBG mandate will be introduced for all \\norganizations marketing natural and bio gas. For collection of bio-mass and \\ndistribution of bio-manure, appropriate fiscal support will be provided.  \\n \\n 19 \\n \\n \\n Bhartiya Prakritik Kheti Bio-Input Resource Centres    \\n84. Over the next 3 years, we will facilitate 1 crore farmers to adopt \\nnatural farming. For this, 10,000 Bio-Input Resource Centres will be set-up, \\ncreating a national-level distributed micro-fertilizer and pesticide \\nmanufacturing network.  \\nMISHTI \\n85. Building on India’s success in afforestation, ‘Mangrove Initiative for \\nShoreline Habitats & Tangible Incomes’, MISHTI, will be taken up for \\nmangrove plantation along the coastline and on salt pan lands, wherever \\nfeasible, through convergence between MGNREGS, CAMPA Fund and other \\nsources. \\nAmrit Dharohar \\n86. Wetlands are vital ecosystems which sustain biological diversity. In \\nhis latest Mann Ki Baat, the Prime Minister said, “Now the total number of \\nRamsar sites in our country has increased to 75. Whereas, before 2014, \\nthere were only 26…”  Local communities have always been at the forefront \\nof conservation efforts. The government will promote their unique \\nconservation values through Amrit Dharohar , a scheme that will be \\nimplemented over the next three years to encourage optimal use of \\nwetlands, and enhance bio-diversity, carbon stock,  \\neco-tourism opportunities and income generation for local communities.  \\nCoastal Shipping \\n87. Coastal shipping will be promoted as the energy efficient and lower \\ncost mode of transport, both for passengers and freight, through PPP mode \\nwith viability gap funding.   \\nVehicle Replacement \\n88. Replacing old polluting vehicles is an important part of greening our \\neconomy. In furtherance of the vehicle scrapping policy mentioned in \\nBudget 2021-22, I have allocated adequate funds to scrap old vehicles of 20 \\n \\n \\n the Central Government. States will also be supported in replacing old \\nvehicles and ambulances.  \\nPriority 6: Youth Power  \\n89. To empower our youth and help the ‘ Amrit Peedhi ’ realize their \\ndreams, we have formulated the National Education Policy, focused on \\nskilling, adopted economic policies that facilitate job creation at scale, and \\nhave supported business opportunities.   \\nPradhan Mantri Kaushal Vikas Yojana 4.0 \\n90. Pradhan Mantri Kaushal Vikas Yojana 4.0 will be launched to skill \\nlakhs of youth within the next three years.  On-job training, industry \\npartnership, and alignment of courses with needs of industry will be \\nemphasized. The scheme will also cover new age courses for Industry 4.0 \\nlike coding, AI, robotics, mechatronics, IOT, 3D printing, drones, and soft \\nskills. To skill youth for international opportunities, 30 Skill India \\nInternational Centres will be set up across different States.  \\n \\nSkill India Digital Platform  \\n91. The digital ecosystem for skilling will be further expanded with the \\nlaunch of a unified Skill India Digital platform for: \\n\\uf0b7 enabling demand-based formal skilling,  \\n\\uf0b7 linking with employers including MSMEs, and \\n\\uf0b7 facilitating access to entrepreneurship schemes.  \\nNational Apprenticeship Promotion Scheme  \\n92. To provide stipend support to 47 lakh youth in three years, Direct \\nBenefit Transfer under a pan-India National Apprenticeship Promotion \\nScheme will be rolled out. 21 \\n \\n \\n Tourism \\n93. With an integrated and innovative approach, at  \\nleast 50 destinations will be selected through challenge mode. In addition to \\naspects such as physical connectivity, virtual connectivity, tourist guides, \\nhigh standards for food streets and tourists’ security, all the relevant \\naspects would be made available on an App to enhance tourist experience. \\nEvery destination would be developed as a complete package. The focus of \\ndevelopment of tourism would be on domestic as well as foreign tourists.  \\n94. Sector specific skilling and entrepreneurship development will be \\ndovetailed to achieve the objectives of the ‘Dekho Apna Desh’ initiative. \\nThis was launched as an appeal by the Prime Minister to the middle class to \\nprefer domestic tourism over international tourism. For integrated \\ndevelopment of theme-based tourist circuits, the ‘Swadesh Darshan \\nScheme’ was also launched. Under the Vibrant Villages Programme, tourism \\ninfrastructure and amenities will also be facilitated in border villages.  \\nUnity Mall \\n95. States will be encouraged to set up a Unity Mall in their state capital \\nor most prominent tourism centre or the financial capital for promotion and \\nsale of their own ODOPs (one district, one product), GI products and other \\nhandicraft products, and for providing space for such products of all other \\nStates.   \\nPriority 7: Financial Sector \\n96. Our reforms in the financial sector and innovative use of technology \\nhave led to financial inclusion at scale, better and faster service delivery, \\nease of access to credit and participation in financial markets. This Budget \\nproposes to further these measures.    \\nCredit Guarantee for MSMEs \\n97. Last year, I proposed revamping of the credit guarantee scheme for \\nMSMEs. I am happy to announce that the revamped scheme will take effect 22 \\n \\n \\n from 1st April 2023 through infusion of ` 9,000 crore in the corpus. This will \\nenable additional collateral-free guaranteed credit of ` 2 lakh crore. \\nFurther, the cost of the credit will be reduced by about 1 per cent.     \\nNational Financial Information Registry  \\n98. A national financial information registry will be set up to serve as the \\ncentral repository of financial and ancillary information. This will facilitate \\nefficient flow of credit, promote financial inclusion, and foster financial \\nstability. A new legislative framework will govern this credit public \\ninfrastructure, and it will be designed in consultation with the RBI. \\nFinancial Sector Regulations  \\n99. To meet the needs of Amrit Kaal  and to facilitate optimum \\nregulation in the financial sector, public consultation, as necessary and \\nfeasible, will be brought to the process of regulation-making and issuing \\nsubsidiary directions. \\n100. To simplify, ease and reduce cost of compliance, financial sector \\nregulators will be requested to carry out a comprehensive review of existing \\nregulations. For this, they will consider suggestions from public and \\nregulated entities. Time limits to decide the applications under various \\nregulations will also be laid down. \\nGIFT IFSC  \\n101. To enhance business activities in GIFT IFSC, the following measures \\nwill be taken: \\n\\uf0b7 Delegating powers under the SEZ Act to IFSCA to avoid dual \\nregulation, \\n\\uf0b7 Setting up a single window IT system for registration and \\napproval from IFSCA, SEZ authorities, GSTN, RBI, SEBI and \\nIRDAI,  23 \\n \\n \\n \\uf0b7 Permitting acquisition financing by IFSC Banking Units of \\nforeign banks,  \\n\\uf0b7 Establishing a subsidiary of EXIM Bank for trade  \\nre-financing, \\n\\uf0b7 Amending IFSCA Act for statutory provisions for arbitration, \\nancillary services, and avoiding dual regulation under SEZ Act, \\nand \\n\\uf0b7 Recognizing offshore derivative instruments as valid contracts.  \\n \\nData Embassy \\n102. For countries looking for digital continuity solutions, we will \\nfacilitate setting up of their Data Embassies in GIFT IFSC.  \\nImproving Governance and Investor Protection in Banking Sector \\n103. To improve bank governance and enhance investors’ protection, \\ncertain amendments to the Banking Regulation Act, the Banking Companies \\nAct and the Reserve Bank of India Act are proposed. \\n \\nCa\\npacity Building in Securities Market \\n104. To build capacity of functionaries and professionals in the securities \\nmarket, SEBI will be empowered to develop, regulate, maintain and enforce \\nnorms and standards for education in the National Institute of Securities \\nMarkets and to recognize award of degrees, diplomas and certificates.  \\nCentral Data Processing Centre  \\n105. A Central Processing Centre will be setup for faster response to \\ncompanies through centralized handling of various forms filed with field \\noffices under the Companies Act. 24 \\n \\n \\n Reclaiming of shares and dividends  \\n106. For investors to reclaim unclaimed shares and unpaid dividends \\nfrom the Investor Education and Protection Fund Authority with ease, an \\nintegrated IT portal will be established. \\nDigital Payments  \\n107. Digital payments continue to find wide acceptance. In 2022, they \\nshow increase of 76 per cent in transactions  \\nand 91 per cent in value. Fiscal support for this digital public infrastructure \\nwill continue in 2023-24.  \\nAzadi Ka Amrit Mahotsav Mahila Samman Bachat Patra  \\n108. For commemorating Azadi Ka Amrit Mahotsav, a one-time new small \\nsavings scheme, Mahila Samman Savings Certificate, will be made available \\nfor a two-year period up to March 2025. This will offer deposit facility upto \\n` 2 lakh in the name of women or girls for a tenor of 2 years at fixed \\ninterest rate of 7.5 per cent with partial withdrawal option.  \\nSenior Citizens  \\n109. The maximum deposit limit for Senior Citizen Savings Scheme will be \\nenhanced from ` 15 lakh to ` 30 lakh. \\n110.  The maximum deposit limit for Monthly Income Account Scheme \\nwill be enhanced from ` 4.5 lakh to ` 9 lakh for single account and from ` 9 \\nlakh to ` 15 lakh for joint account. \\nFiscal Management \\nFifty-year interest free loan to States \\n111. The entire fifty-year loan to states has to be spent on capital \\nexpenditure within 2023-24. Most of this will be at the discretion of states, \\nbut a part will be conditional on states increasing their actual capital 25 \\n \\n \\n expenditure. Parts of the outlay will also be linked to, or allocated for, the \\nfollowing purposes: \\n\\uf0b7 Scrapping old government vehicles, \\n\\uf0b7 Urban planning reforms and actions, \\n\\uf0b7 Financing reforms in urban local bodies to make them \\ncreditworthy for municipal bonds, \\n\\uf0b7 Housing for police personnel above or as part of police stations,  \\n\\uf0b7 Constructing Unity Malls, \\n\\uf0b7 Children and adolescents’ libraries and digital infrastructure, \\nand \\n\\uf0b7 State share of capital expenditure of central schemes. \\nFiscal Deficit of States \\n112. States will be allowed a fiscal deficit of 3.5 per cent of GSDP of which \\n0.5 per cent will be tied to power sector reforms.  \\nRevised Estimates 2022-23 \\n113. The Revised Estimate of the total receipts other than borrowings is  \\n` 24.3 lakh crore, of which the net tax receipts  \\nare ` 20.9 lakh crore. The Revised Estimate of the total expenditure is  \\n` 41.9 lakh crore, of which the capital expenditure is about ` 7.3 lakh crore.      \\n114. The Revised Estimate of the fiscal deficit is 6.4 per cent of GDP, \\nadhering to the Budget Estimate.        \\nBudget Estimates 2023-24 \\n115. Coming to 2023-24, the total receipts other than borrowings and the \\ntotal expenditure are estimated at ` 27.2 lakh crore and ` 45 lakh crore \\nrespectively. The net tax receipts are estimated at ` 23.3 lakh crore.      26 \\n \\n \\n 116. The fiscal deficit is estimated to be 5.9 per cent of GDP. In my \\nBudget Speech for 2021-22, I had announced that we plan to continue the \\npath of fiscal consolidation, reaching a fiscal deficit below 4.5 per cent by \\n2025-26 with a fairly steady decline over the period. We have adhered to \\nthis path, and I reiterate my intention to bring the fiscal deficit below 4.5 \\nper cent of GDP by 2025-26.  \\n117.  To finance the fiscal deficit in 2023-24, the net market borrowings \\nfrom dated securities are estimated at ` 11.8 lakh crore. The balance \\nfinancing is expected to come from small savings and other sources. The \\ngross market borrowings are estimated at ` 15.4 lakh crore. \\nI will, now, move to Part B. \\n \\n \\n  27 \\n \\n \\n PART B \\nIndirect Taxes \\n118. My indirect tax proposals aim to promote exports, boost domestic \\nmanufacturing, enhance domestic value addition, encourage green energy \\nand mobility.  \\n119. A simplified tax structure with fewer tax rates helps in reducing \\ncompliance burden and improving tax administration. I propose to reduce \\nthe number of basic customs duty rates on goods, other than textiles and \\nagriculture, from 21 to 13. As a result, there are minor changes in the basic \\ncustom duties, cesses and surcharges on some items including toys, \\nbicycles, automobiles and naphtha. \\n \\nGreen Mobility \\n120. To avoid cascading of taxes on blended compressed natural gas, I \\npropose to exempt excise duty on GST-paid compressed bio gas contained \\nin it. To further provide impetus to green mobility, customs duty exemption \\nis being extended to import of capital goods and machinery required for \\nmanufacture of lithium-ion cells for batteries used in electric vehicles. \\nElectronics  \\n121. As a result of various initiatives of the Government, including the \\nPhased Manufacturing programme, mobile phone production in India has \\nincreased from 5.8 crore units valued at about ` 18,900 crore in 2014-15 to \\n31 crore units valued at over ` 2,75,000 crore in the last financial year. To \\nfurther deepen domestic value addition in manufacture of mobile phones, I \\npropose to provide relief in customs duty on import of certain parts and \\ninputs like camera lens and continue the concessional duty on lithium-ion \\ncells for batteries for another year.  28 \\n \\n \\n 122. Similarly, to promote value addition in manufacture of televisions, I \\npropose to reduce the basic customs duty on parts of open cells of TV \\npanels to 2.5 per cent.  \\nElectrical  \\n123. To rectify inversion of duty structure and encourage manufacturing \\nof electric kitchen chimneys, the basic customs duty on electric kitchen \\nchimney is being increased from 7.5 per cent to 15 per cent and that on \\nheat coils for these is proposed to be reduced from 20 per cent to 15 per \\ncent. \\nChemicals and Petrochemicals  \\n124. Denatured ethyl alcohol is used in chemical industry. \\n I propose to exempt basic customs duty on it. This will also support the \\nEthanol Blending Programme and facilitate our endeavour for energy \\ntransition. Basic customs duty is also being reduced on acid grade fluorspar \\nfrom 5 per cent to 2.5 per cent to make the domestic fluorochemicals \\nindustry competitive. Further, the basic customs duty on crude glycerin for \\nuse in manufacture of epicholorhydrin is proposed to be reduced from 7.5 \\nper cent to 2.5 per cent. \\nMarine products \\n125. In the last financial year, marine products recorded the highest \\nexport growth benefitting farmers in the coastal states of the country. To \\nfurther enhance the export competitiveness of marine products, \\nparticularly shrimps, duty is being reduced on key inputs for domestic \\nmanufacture of shrimp feed. \\nLab Grown Diamonds \\n126. India is a global leader in cutting and polishing of natural diamonds, \\ncontributing about three-fourths of the global turnover by value. With the \\ndepletion in deposits of natural diamonds, the industry is moving towards \\nLab Grown Diamonds (LGDs) and it holds huge promise. To seize this 29 \\n \\n \\n opportunity, I propose to reduce basic customs duty on seeds used in their \\nmanufacture.  \\n \\nPrecious Metals \\n127. Customs Duties on dore and bars of gold and platinum were \\nincreased earlier this fiscal. I now propose to increase the duties on articles \\nmade therefrom to enhance the duty differential. I also propose to increase \\nthe import duty on silver dore, bars and articles to align them with that on \\ngold and platinum. \\nMetals \\n128. To facilitate availability of raw materials for the steel sector, \\nexemption from Basic Customs Duty on raw materials for manufacture of \\nCRGO Steel, ferrous scrap and nickel cathode is being continued. \\n129. Similarly, the concessional BCD of 2.5 per cent on copper scrap is \\nalso being continued to ensure the availability of raw materials for \\nsecondary copper producers who are mainly in the MSME sector. \\nCompounded Rubber \\n130. The basic customs duty rate on compounded rubber is being \\nincreased from 10 per cent to ‘25 per cent or ` 30/kg whichever is lower’, at \\npar with that on natural rubber other than latex, to curb circumvention of \\nduty.  \\nCigarettes \\n131. National Calamity Contingent Duty (NCCD) on specified cigarettes \\nwas last revised three years ago. This is proposed to be revised upwards by \\nabout 16 per cent. \\n 30 \\n \\n \\n  \\nDirect Taxes \\n132. I now come to my direct tax proposals. These proposals aim to \\nmaintain continuity and stability of taxation, further simplify and rationalise \\nvarious provisions to reduce the compliance burden, promote the \\nentrepreneurial spirit and provide tax relief to citizens. \\n133. It has been the constant endeavour of the Income Tax Department \\nto improve Tax Payers Services by making compliance easy and smooth. Our \\ntax payers’ portal received a maximum of 72 lakh returns in a day; \\nprocessed more than 6.5 crore returns this year; average processing period \\nreduced from 93 days in financial year 13-14 to 16 days now;  \\nand 45 per cent of the returns were processed within 24 hours. We intend \\nto further improve this, roll out a next-generation Common IT Return Form \\nfor tax payer convenience, and also plan to strengthen the grievance \\nredressal mechanism.  \\nMSMEs and Professionals  \\n134. MSMEs are growth engines of our economy.  Micro enterprises with \\nturnover up to ` 2 crore and certain professionals with turnover of up to  \\n` 50 lakh can avail the benefit of presumptive taxation. I propose to provide \\nenhanced limits of ` 3 crore and ` 75 lakh respectively, to the tax payers \\nwhose cash receipts are no more than 5 per cent. Moreover, to support \\nMSMEs in timely receipt of payments, I propose to allow deduction for \\nexpenditure incurred on payments made to them only when payment is \\nactually made.  \\nCooperation \\n135. Cooperation is a value to be cherished. In realizing our Prime \\nMinister’s goal of “Sahkar se Samriddhi ”, and his resolve to “connect the \\nspirit of cooperation with the spirit of Amrit Kaal”, in addition to the \\nmeasures proposed in Part A, I have a slew of proposals for the co-operative \\nsector.  31 \\n \\n \\n 136. First, new co-operatives that commence manufacturing activities till \\n31.3.2024 shall get the benefit of a lower tax rate of 15 per cent, as is \\npresently available to new manufacturing companies. \\n137. Secondly, I propose to provide an opportunity to sugar co-operatives \\nto claim payments made to sugarcane farmers for the period prior to \\nassessment year 2016-17 as expenditure. This is expected to provide them \\nwith a relief of almost ` 10,000 crore.  \\n138. Thirdly, I am providing a higher limit of ` 2 lakh per member for cash \\ndeposits to and loans in cash by Primary Agricultural Co-operative Societies \\n(PACS) and Primary Co-operative Agriculture and Rural Development Banks \\n(PCARDBs).  \\n139. Similarly, a higher limit of ` 3 crore for TDS on cash withdrawal is \\nbeing provided to co-operative societies. \\nStart-Ups \\n140. Entrepreneurship is vital for a country’s economic development. We \\nhave taken a number of measures for start-ups and they have borne results. \\nIndia is now the third largest ecosystem for start-ups globally, and ranks \\nsecond in innovation quality among middle-income countries. I propose to \\nextend the date of incorporation for income tax benefits to start-ups from \\n31.03.23 to 31.3.24. I further propose to provide the benefit of carry \\nforward of losses on change of shareholding of start-ups from seven years \\nof incorporation to ten years. \\nAppeals \\n141. To reduce the pendency of appeals at Commissioner level, I propose \\nto deploy about 100 Joint Commissioners for disposal of small appeals. We \\nshall also be more selective in taking up cases for scrutiny of returns already \\nreceived this year. \\n \\n 32 \\n \\n \\n Better targeting of tax concessions \\n142. For better targeting of tax concessions and exemptions, \\n I propose to cap deduction from capital gains on investment in residential \\nhouse under sections 54 and 54F to ` 10 crore. Another proposal with \\nsimilar intent is to limit income tax exemption from proceeds of insurance \\npolicies with very high value. \\nRationalisation \\n143. There are a number of proposals relating to rationalisation and \\nsimplification. Income of authorities, boards and commissions set up by \\nstatutes of the Union or State for the purpose of housing, development of \\ncities, towns and villages, and regulating, or regulating and developing an \\nactivity or matter, is proposed to be exempted from income tax. Other \\nmajor measures in this direction are: \\n\\uf0b7 Removing the minimum threshold of ` 10,000/- for TDS and \\nclarifying taxability relating to online gaming; \\n\\uf0b7 Not treating conversion of gold into electronic gold receipt and vice \\nversa as capital gain;  \\n\\uf0b7 Reducing the TDS rate from 30 per cent to 20 per cent on taxable \\nportion of EPF withdrawal in non-PAN cases; and \\n\\uf0b7 Taxation on income from Market Linked Debentures. \\nOthers \\n144. Other major proposals in the Finance Bill relate to the following: \\n\\uf0b7 Extension of period of tax benefits to funds relocating to IFSC, GIFT \\nCity till 31.03.2025; \\n\\uf0b7 Decriminalisation under section 276A of the Income Tax Act; \\n\\uf0b7 Allowing carry forward of losses on strategic disinvestment including \\nthat of IDBI Bank; and \\n\\uf0b7 Providing EEE status to Agniveer Fund. \\n 33 \\n \\n \\n Personal Income Tax \\n145. Now, I come to what everyone is waiting for -- personal income tax. I \\nhave five major announcements to make in this regard. These primarily \\nbenefit our hard-working middle class. \\n146. The first one concerns rebate. Currently, those with income up to  \\n` 5 lakh do not pay any income tax in both old and new tax regimes. I \\npropose to increase the rebate limit to ` 7 lakh in the new tax regime. Thus, \\npersons in the new tax regime, with income up to ` 7 lakh will not have to \\npay any tax.  \\n147. The second proposal relates to middle-class individuals. \\n I had introduced, in the year 2020, the new personal income tax regime \\nwith six income slabs starting from ` 2.5 lakh. I propose to change the tax \\nstructure in this regime by reducing the number of slabs to five and \\nincreasing the tax exemption limit to ` 3 lakh. The new tax rates are: \\n` 0-3 lakh Nil \\n` 3-6 lakh 5 per cent \\n` 6-9 lakh 10 per cent \\n` 9-12 lakh 15 per cent \\n` 12-15 lakh 20 per cent \\nAbove ` 15 lakh 30 per cent \\n \\n148. This will provide major relief to all tax payers in the new regime. An \\nindividual with an annual income of ` 9 lakh will be required to pay only  \\n` 45,000/-. This is only 5 per cent of his or her income. It is a reduction of 25 \\nper cent on what he or she is required to pay now, ie, ` 60,000/-. Similarly, \\nan individual with an income of ` 15 lakh would be required to pay only  \\n` 1.5 lakh or 10 per cent of his or her income, a reduction of 20 per cent \\nfrom the existing liability of ` 1,87,500/.  \\n149. My third proposal is for the salaried class and the pensioners \\nincluding family pensioners, for whom I propose to extend the benefit of 34 \\n \\n \\n standard deduction to the new tax regime. Each salaried person with an \\nincome of ` 15.5 lakh or more will thus stand to benefit by ` 52,500. \\n150. My fourth announcement in personal income tax is regarding the \\nhighest tax rate which in our country is 42.74 per cent. This is among the \\nhighest in the world. I propose to reduce the highest surcharge rate from 37 \\nper cent to 25 per cent in the new tax regime. This would result in reduction \\nof the maximum tax rate to 39 per cent. \\n151. Lastly, the limit of ` 3 lakh for tax exemption on leave encashment \\non retirement of non-government salaried employees was last fixed in the \\nyear 2002, when the highest basic pay in the government was ` 30,000/- \\npm. In line with the increase in government salaries, I am proposing to \\nincrease this limit to ` 25 lakh. \\n152. We are also making the new income tax regime as the default tax \\nregime. However, citizens will continue to have the option to avail the \\nbenefit of the old tax regime. \\n153. Apart from these, I am also making some other changes as given in \\nthe annexure. \\n154. As a result of these proposals, revenue of about ` 38,000 crore –  \\n` 37,000 crore in direct taxes and ` 1,000 crore in indirect taxes – will be \\nforgone while revenue of about ` 3,000 crore will be additionally mobilized. \\nThus, the total revenue forgone is about ` 35,000 crore annually. \\n155. Mr. Speaker Sir, with these words, I commend the Budget to this \\naugust House. \\n***** \\n  35 \\n \\n \\n Annexure to Part B of the Budget Speech 2023-24 \\nAmendments relating to Direct Taxes \\nA. PROVIDING TAX RELIEF  UNDER NEW PERSONAL T AX REGIME  \\nA.1     The new tax regime for Individual and HUF , introduced by the \\nFinance Act 2020, is now proposed to be the default regime.  \\nA.2      This regime would also become the default regime for AOP (other \\nthan co-operative), BOI and AJP.  \\nA.3      Any individual, HUF, AOP (other than co-operative), BOI or AJP not \\nwilling to be taxed under this new regime can opt to be taxed \\nunder the old regime. For those person having income under the \\nhead “profit and gains of business or profession” and having opted \\nfor old regime can revoke that option only once and after that \\nthey will continue to be taxed under the new regime. For those \\nnot having income under the head “profit and gains of business or \\nprofession”, option for old regime may be exercised in each year. \\nA.4      Substantial relief is proposed under the new regime with new slabs \\nand tax rates as under: \\nTotal Income ( `) Rate (per cent)  \\nUpto 3,00,000  Nil \\nFrom 3,00,001 to 6,00,000  5 \\nFrom 6,00,001 to 9,00,000  10 \\nFrom 9,00,001 to 12,00,000 15 \\nFrom 12,00,001 to 15,00,000  20 \\nAbove 15,00,000  30 \\n \\nA.5      Resident individual with total income up to ` 5,00,000 do not pay \\nany tax due to rebate under both old and new regime. It is \\nproposed to increase the rebate for the resident individual under \\nthe new regime so that they do not pay tax if their total income is \\nup to ` 7,00,000. \\nA.6     Standard deduction of ` 50,000 to salaried individual, and 36 \\n \\n \\n deduction from family pension up to ` 15,000, is currently allowed \\nonly under the old regime. It is proposed to allow these two \\ndeductions under the new regime also. \\n A.7      Surcharge on income-tax under both old regime and new regime is \\n10 per cent if income is above ` 5 0 lakh and up to ` 1 crore, 15 per \\ncent if income is above  `1 crore and up to ` 2 crore, 25 per cent if \\nincome is above ` 2 crore and up to ` 5 crore, and 37 per cent if \\nincome is above ` 5 crore. It is proposed that the for those \\nindividuals, HUF, AOP (other than co-operative), BOI and AJP \\nunder the new regime, surcharge would be same except that the \\nsurcharge rate of 37 per cent will not apply. Highest surcharge \\nshall be 25 per cent for income above  \\n` 2 crore. This would reduce the maximum rate from about 42.7 \\nper cent to about 39 per cent. No change in surcharge is proposed \\nfor those who opt to be under the old regime. \\nA.8      Encashment of earned leave up to 10 months of average salary, at \\nthe time of retirement in case of an employee (other than an \\nemployee of the Central Government or State Government), is \\nexempt under sub-clause (ii) of clause (10AA) of section 10 of the \\nIncome-tax Act (“the Act”) to the extent notified. The maximum \\namount which can be exempted is ` 3 lakh at present. It is \\nproposed to issue notification to extend this limit to ` 25 lakh.  \\nB. SOCIO-ECONOMIC WELFARE MEASURES  \\nB.1 Promoting  timely payments to Micro and Small Enterprises  \\nIn order to promote timely payments to micro and small \\nenterprises, it is proposed to include payments made to such \\nenterprises within the ambit of section 43B of the Act. Thus, \\ndeduction for such payments would be allowed only when actually \\npaid. It will be allowed on accrual basis only if the payment is \\nwithin the time mandated under the Micro, Small and Medium \\nEnterprises Development Act. \\nB.2 Agnipath Scheme, 2022 \\nThe payment received from the Agniveer Corpus Fund by the \\nAgniveers enrolled in Agnipath Scheme, 2022 is proposed to be \\nexempt from taxes. Deduction in the computation of total income \\nis proposed to be allowed to the Agniveer on the contribution 37 \\n \\n \\n made by him or the Central Government to his Seva Nidhi \\naccount. \\nB.3 Relief to sugar co-operatives from past demand \\nIt is proposed that for sugar co-operatives, for years prior to A.Y. \\n2016-17, if any deduction claimed for expenditure made on \\npurchase of sugar has been disallowed, an application may be \\nmade to the Assessing Officer, who shall recompute the income of \\nthe relevant previous year after allowing such deduction up to the \\nprice fixed or approved by the Government for such previous year.  \\nB.4 Increasing threshold limit for Co-operatives to withdraw cash \\nwithout TDS \\nIt is proposed to enable co-operatives to withdraw cash up to ` 3 \\ncrore in a year without being subjected to TDS on such \\nwithdrawal.  \\nB.5 Penalty for cash loan/transactions against primary co-operatives \\nIt is proposed to  amend section 269SS of the Act to provide that \\nwhere a deposit is accepted by a primary agricultural credit \\nsociety or a primary co-operative agricultural and rural \\ndevelopment bank from its member or a loan is taken from a \\nprimary agricultural credit society or a primary co-operative \\nagricultural and rural development bank by its member in cash, no \\npenal consequence would arise, if the amount of such loan or \\ndeposit in cash is less than  ` 2 lakh. Further, section 269T of the \\nAct is proposed to be amended to provide that where a deposit is \\nrepaid by a primary agricultural credit society or a primary co-\\noperative agricultural and rural development bank to its member \\nor such loan is repaid to a primary agricultural credit society or a \\nprimary co-operative agricultural and rural development bank by \\nits member in cash, no penal consequence shall arise, if the \\namount of such loan or deposit in cash is less than ` 2 lakh. \\nB.6 Relief to start-ups in carrying forward and setting off of losses \\nThe condition of continuity of at least 51 per cent shareholding for \\nsetting off of carried forward losses is relaxed for an eligible start \\nup if all the shareholders of the company continue to hold those \\nshares. At present this relaxation applies for losses incurred during \\nthe period of 7 years from incorporation of such start-up. It is 38 \\n \\n \\n propos ed to increase this period to 10 years.  \\nB.7 Extension of date of incorporation for eligible start up for \\nexemption  \\nCertain start-ups are eligible for some tax benefit if they are \\nincorporated before 1st April, 2023. The period of incorporation of \\nsuch eligible start-ups is proposed to be extended by one year to \\nbefore 1st April, 2024.  \\nB.8 Gold to Electronic Gold Receipt \\nThe conversion of physical gold to Electronic Gold Receipt and vice \\nversa is proposed not to be treated as a transfer and not to attract \\nany capital gains. This would promote investments in electronic \\nequivalent of gold. \\nB.9 Incentives to IFSC \\nRelocation of funds to IFSC has certain tax exemptions, if the \\nrelocation is before 31.03.2023. This date is proposed to be \\nextended to 31.03.2025. Further, any distributed income from the \\noffshore derivative instruments entered into with an offshore \\nbanking unit is also proposed to be exempted subject to certain \\nconditions. \\nB.10 Exemption to development authorities etc. \\nIt is proposed to provide exemption to any income arising to a \\nbody or authority or board or trust or commission, (not being a \\ncompany) which  has been established or constituted by or under \\na Central or State Act with the purposes of satisfying the need for \\nhousing or for planning, development or improvement of cities, \\ntowns and villages or for regulating any activity or matter, \\nirrespective of whether it is carrying out commercial activity. \\nB.11 Facilitating certain strategic disinvestments \\nTo facilitate certain strategic disinvestments, it is proposed to \\nallow carry forward of accumulated losses and unabsorbed \\ndepreciation allowance in the case of amalgamation of one or \\nmore banking company with any other banking institution or a \\ncompany subsequent to a strategic disinvestment, if such \\namalgamation takes place within 5 years of strategic \\ndisinvestment. It is also proposed to modify the definition of \\n‘strategic disinvestment’. 39 \\n \\n \\n B.12  15 per cent concessional tax to promote new manufacturing co -\\noperative society \\nIn order to promote the growth of manufacturing in co-operative \\nsector, a new co-operative society formed on or after 01.04.2023, \\nwhich commences manufacturing or production by 31.03.2024 \\nand do not avail of any specified incentive or deduction, is \\nproposed to be allowed an option to pay tax at a concessional rate \\nof 15 per cent similar to what is available to new manufacturing \\ncompanies.  \\nC. EASE OF COMPLIANCE  \\nC.1 Ease in claiming deduction on amortization of preliminary \\nexpenditure  \\nAt present for claiming amortization of certain preliminary \\nexpenses, the activity is to be carried out either by the assessee or \\nby a concern approved by the Board. In order to ease the process \\nof claiming amortization of these expenses it is proposed to \\nremove the condition of activity in connection with these \\nexpenses to be carried out by a concern approved by the Board. \\nFormat for reporting of such expenses by the assessee shall be \\nprescribed. \\nC.2 Increasing threshold limits for presumptive taxation schemes \\nIn order to ease compliance and to promote non-cash \\ntransactions, it is proposed to increase the threshold limits for \\npresumptive scheme of taxation for eligible businesses from ` 2 \\ncrore to ` 3 crore and for specified professions from ` 50 lakh to  \\n` 75 lakh. The increased limit will apply only in case the amount or \\naggregate of the amounts received during the year, in cash, does \\nnot exceed five per cent of the total gross receipts/turnover. \\nC.3 Extending the scope for deduction of tax at source at lower or nil \\nrate \\nIt is proposed to allow a taxpayer to obtain certificate of \\ndeduction of tax at source to lower or nil rate on sums on which \\ntax is required to be deducted under section 194LBA of the Act by \\nBusiness Trusts.   40 \\n \\n \\n D. WIDENING & DEEPENING OF T AX BASE AND ANTI AVOIDANCE  \\nD.1 It is proposed to extend the deemed income accrual provision \\nrelating to sums of money exceeding fifty thousand rupees, \\nreceived from residents without consideration to a not ordinarily \\nresident with effect from 1st April, 2023. \\nD.2 It is proposed to omit the provision to allow tax exemption to \\nnews agencies set up in India solely for collection and distribution \\nof news from the financial year 2023-24.  \\nD.3 It is proposed to tax distributed income by business trusts in the \\nhands of a unit holder (other than dividend, interest or rent which \\nis already taxable) on which tax is currently avoided both in the \\nhands of unit holder as well as in the hands of business trust.   \\nD.4 It is proposed to withdraw the exemption from TDS currently \\navailable on interest payment on listed debentures. \\nD.5 With respect to presumptive schemes for non-residents, it is \\nproposed to disallow carried forward and set off of loss computed \\nas per books of account with presumptive income. \\nD.6 For online games, it is proposed to provide for TDS and taxability \\non net winnings at the time of withdrawal or at the end of the \\nfinancial year. Moreover, TDS would be without the threshold of  \\n` 10,000. For lottery, crossword puzzles games, etc threshold limit \\n` 10,000 for TDS shall continue but shall apply to aggregate \\nwinnings during a financial year. \\nD.7     The rate of TCS for foreign remittances for education and for \\nmedical treatment is proposed to continue to be 5 per cent for \\nremittances in excess of ` 7 lakh. Similarly, the rate of TCS on \\nforeign remittances for the purpose of education through loan \\nfrom financial institutions is proposed to continue to be 0.5 per \\ncent in excess of `7 lakh. However, for foreign remittances for \\nother purposes under LRS and purchase of overseas tour program, \\nit is proposed to increase the rates of TCS from 5 per cent to 20 \\nper cent. \\nD.8 Tax on capital gains can be avoided by investing proceeds of such \\ngains in residential property. This is proposed to be capped at ` 10 \\ncrore. 41 \\n \\n \\n D.9 The income from market linked debentures is proposed to be \\ntaxed as short-term capital gains at the applicable rates. \\nD.10 It is proposed to provide for some provisions to minimise risk to \\nrevenue due to undervaluation of inventory. \\nD.11 It is proposed to provide that where aggregate of premium for life \\ninsurance policies (other than ULIP) issued on or after 1st April, \\n2023 is above ` 5 lakh, income from only those policies with \\naggregate premium up to ` 5 lakh shall be exempt. This will not \\naffect the tax exemption provided to the amount received on the \\ndeath of person insured. It will also not affect insurance policies \\nissued till 31st March, 2023. \\nD.12 It is proposed to amend provisions for computing capital gains in \\ncase of joint development of property to include the amount \\nreceived through cheque etc. as consideration.  \\nD.13 While interest paid on borrowed capital for acquiring or improving \\na property can, subject to certain conditions, be claimed as \\ndeduction from income, it can also be included in the cost of \\nacquisition or improvement on transfer, thereby reducing capital \\ngains. It is proposed to provide that the cost of acquisition or \\nimprovement shall not include the amount of interest claimed \\nearlier as deduction. \\nD.14 There are certain assets like intangible assets or rights for which \\nno consideration has been paid for acquisition and the transfer of \\nwhich may result in generation of income. Their cost of acquisition \\nis proposed to be defined to be NIL.  \\nE. IMPROVING COMPLIANCE AND TAX ADMINISTRATION  \\nE.1 With respect to rectification of orders by the Interim Board of \\nSettlement, it is proposed to provide that where the time-limit for \\namending an order by it or for making an application to it expires \\non or after 01.02.2021 but before 01.02.2022, such time-limit shall \\nstand extended to 30.09.2023. \\nE.2 To expedite the disposal of certain appeals pending with \\nCommissioner (Appeals), it is proposed to introduce a new \\nauthority in the rank of Joint Commissioner/ Additional \\nCommissioner [JCIT(Appeals)], for appeals against certain orders 42 \\n \\n \\n passed by or with the approval of an authority below the rank of \\nJoint Commissioner. Certain related and consequential \\namendments are also proposed in this regard.  \\nE.3 It is proposed to reduce the minimum time period required to be \\nprovided by the transfer pricing officer to assessee for production \\nof documents and information from 30 days to 10 days. \\nE.4 It is proposed to provide for appeal against penalty orders passed \\nby Commissioner (Appeals) under certain sections of the Act \\nbefore the Appellate Tribunal. It is also proposed to provide that \\nan order under section 263 of the Act passed by the Principal \\nChief Commissioner or Chief Commissioner and any rectification \\norder for the same shall also be appealable before the Appellate \\nTribunal. Further, it is proposed to enable filing of memorandum \\nof cross-objections in all classes of cases against which appeal can \\nbe made to the Appellate Tribunal. \\nE.5 It is proposed to amend section 132 of the Act, dealing with \\nsearch and seizure, to allow the authorised officer to take \\nassistance of specific domain experts like digital forensic \\nprofessionals, valuers and services of other professionals like \\nlocksmiths, carpenters etc. during the course of search and also to \\naid in accurate estimation of undisclosed income held in the form \\nof property by the assessee.  \\nE.6 Section 170A of the Act, inserted vide Finance Act, 2022 is \\nproposed to be substituted to clarify that a modified return shall \\nbe furnished by an entity to whom the order of the business \\nreorganisation applies, and to introduce provisions for assessment \\nor reassessment in cases where such modified return is furnished. \\nE.7 It is proposed that an order of assessment may be passed within a \\nperiod of 12 months from the end of the relevant assessment year \\nor the financial year in which updated return is filed, as the case \\nmay be. It is also proposed that in cases where search under \\nsection 132 of the Act or requisition under section 132A of the Act \\nhas been made, the period of limitation of pending assessments \\nshall be extended by twelve months.  \\nE.8 It is proposed to make amendments to empower the Central \\nGovernment to make modifications in the already notified 43 \\n \\n \\n schemes regarding e -Verification, Dispute Resolution, Advance \\nRulings, Appeal and Penalty, at any time to enable better \\nimplementation of such schemes. \\nE.9 It is proposed to limit the time for furnishing of a return for \\nreassessment. Further, it is also proposed to  provide that in cases \\nwhere search related information is available after 15th March of \\nany financial year, an additional period of fifteen days shall be \\nallowed for issuance of notice, for assessment/reassessments etc, \\nunder section 148 of the Act. It is also proposed to clarify that the \\nspecified authority for granting approval shall be Principal Chief \\nCommissioner or Principal Director General or Chief Commissioner \\nor Director General. \\nE.10 It is proposed to provide a penalty of ` 5,000 if there is any \\ninaccuracy in the statement of financial transactions submitted by \\na prescribed reporting financial institution due to false or \\ninaccurate information submitted by the account holder. \\nE.11 It is proposed to amend section 271C and section 276B of the Act \\nto provide for penalty and prosecution where default in TDS \\nrelates to transaction in kind. \\nE.12.   It is proposed to amend the time period for filing of appeal against \\nthe order of the Adjudicating authority under Benami Act within a \\nperiod of 45 days from the date when such order is received by \\nthe Initiating Officer or the aggrieved person. The definition of \\n‘High Court’ is also proposed to be modified to allow \\ndetermination of jurisdiction for filing appeal in the case of non-\\nresidents.  \\nF. RATIONALISATION  \\nF.1 The restriction on interest deductibility on interest payment to \\noverseas associated enterprise does not apply to those in the \\nbusiness of banking and insurance. It is proposed to extend this \\nbenefit to non-banking financial companies, as may be notified. \\nF.2 TDS on payment of certain income to a non-resident is currently at \\nthe rate of 20 per cent, but the tax rate in treaties may be lower. It \\nis proposed to allow the benefit of tax treaty at the time of TDS on \\nsuch income under section 196A of the Act. 44 \\n \\n \\n F.3 At present the TDS rate on withdrawal of taxable component from \\nEmployees’ Provident Fund Scheme in non-PAN cases is 30 per \\ncent. It is proposed to reduce it to 20 per cent, as in other non-\\nPAN cases. \\nF.4 Sometimes, tax for income of an earlier year is deducted later, \\nwhile tax thereon has already been paid in the earlier year. \\nAmendment is proposed to facilitate such taxpayers to claim \\ncredit of this TDS in the earlier year.  \\nF.5 Higher TDS/TCS rate applies, if the recipient is a non-filer i.e. who \\nhas not furnished his return of income of preceding previous year \\nand has aggregate of TDS and TCS of ` 50,000 or more. It is \\nproposed to exclude a person who is not required to furnish the \\nreturn of income for such previous year and who is notified by the \\nCentral Government in the Official Gazette in this behalf. \\nF\\n.6 It is proposed to clarify that the amount of advance tax paid is \\nreduced only once for computing the interest payable u/s 234B in \\nthe case of an updated return. \\nF.7 It is proposed to extend taxability of the consideration (share \\napplication money/ share premium) for shares exceeding the face \\nvalue of such shares to all investors including non-residents. \\nF.8 It is proposed to enable prescription of a uniform methodology for \\ncomputing the value of perquisite with respect to accommodation \\nprovided by employers to their employees. \\nF.9 It is proposed to provide a time limit for an SEZ unit to bring the \\nproceeds from exports of goods or services into India. The filing of \\nincome-tax return is also proposed to be made mandatory for \\nclaiming deduction on export income. \\nF.10 Due to changes in classification of non-banking financial \\ncompanies by the Reserve Bank of India, it is proposed to make \\nnecessary amendments to align such classifications in the Act with \\nthe same. \\nF.11 It is proposed to clarify that for taxability under section 28 of the \\nAct as well for tax deduction at source under section 194R of the \\nAct, the benefit could also be in cash. \\nF.12 It is proposed to make amendments relating to exemption 45 \\n \\n \\n provided to charitable trusts and institution to  \\n\\uf0b7 provide clarity on tax treatment on replenishment of corpus \\nand on repayment of loans/borrowings; \\n\\uf0b7 treat only 85 per cent of donation made to another trust as \\napplication; \\n\\uf0b7 omit the redundant provisions related to rolling back of \\nexemption; \\n\\uf0b7 combine provisional and regular registration in some cases; \\n\\uf0b7 modify the scope of specified violation; \\n\\uf0b7 provide for payment of tax on assets if a trust does not apply \\nfor exemption after getting provisional exemption and for re-\\nexemption after expiry of exemption; \\n\\uf0b7 align of time for furnishing of certain forms; \\n\\uf0b7 clarify that the time provided for furnishing return of income \\nfor claiming exemption shall not include the time provided for \\nfurnishing updated return. \\nF.13 It is proposed to omit certain name-based funds from section 80G \\nof the Act, which provides for deduction of donation to such funds \\nfrom the income of the donor. \\nF.14 It is proposed to provide that where refund is due to a person, \\nsuch refund shall be set off against existing demand, and if \\nproceedings for assessment or reassessment are pending in such \\ncase, the refund due will be withheld by the Assessing Officer till \\nthe date of assessment or reassessment.  \\nG. OTHERS  \\nG.1 It is proposed to omit section 88 and some of the clauses of \\nsection 10 of the Act which are no longer in force. \\nG.2 It is proposed to extend tax exemption to Specified Undertaking of \\nUnit Trust of India (SUUTI) till 30th September, 2023. It is also \\nproposed to enable the Central Government to notify the date of \\nvacation of office of administrator of SUUTI. \\nG.3 It is proposed to decriminalize certain acts of omission of \\nliquidators under section 276A of the Act with effect from 1st \\nApril, 2023. \\n  \\n  46 \\n \\n \\n Annexure to Part B of the Budget Speech 2023-24 \\nAmendments relating to Indirect Taxes \\n \\nA. LEGISLATIVE CHANGES IN CUSTOMS LAWS  \\nA.1       Amendments in the Customs Act, 1962 \\nSection 25 (4A) is being amended to  exclude certain categories of \\nconditional customs duty exemptions from the validity period of \\ntwo years, such as, notifications issued in relation to multilateral \\nor bilateral trade agreements; obligations under international \\nagreements, treaties, conventions including with respect to UN \\nagencies, diplomats, international organizations; privileges of \\nconstitutional authorities; schemes under Foreign Trade Policy; \\nCentral Government schemes having a validity of more than two \\nyears; re-imports, temporary imports, goods imported as gifts or \\npersonal baggage; any other duties of Customs under any other \\nlaw in force including  IGST levied under section 3(7) of Customs \\nTariff Act, 1975, other than duty of customs levied under section \\n12 of the Customs Act 1962. \\nSection 127C is being amended to specify a time limit of nine \\nmonths from date of filing application for passing final order by \\nSettlement Commission.  \\nA.2  Amendments in the provisions relating to Anti-Dumping Duty \\n(ADD), Countervailing Duty (CVD), and Safeguard Measures \\nSections 9, 9A, 9C of the Customs Tariff Act are being amended to \\nclarify the intent and scope of these provisions. They are also \\nbeing validated retrospectively with effect from 1st January 1995. \\nA.3      Amendments in the First Schedule to the Customs Tariff Act, 1975 \\nThe First Schedule to the Customs Tariff Act, 1975 is being \\namended to increase the rates on certain tariff items with effect \\nfrom 02.02.2023 and also modify the rates on certain other tariff \\nitems as part of rate rationalisation with effect from date of \\nassent. \\nThe First Schedule to the Customs Tariff Act is being proposed to \\nbe amended in accordance with HSN 2022 amendments.  \\nNew tariff lines are also proposed to be created, which will help in \\nbetter identification of millet-based products, mozzarella cheese, \\nmedicinal plants and their parts, certain pesticides, telecom 47 \\n \\n \\n products, synthetic diamonds, cotton, fertilizer grade urea etc. \\nThis will also help in trade facilitation by better identification of \\nthe above items, getting clarity on availing concessional import \\nduty through various notifications and thus reducing dwell time.  \\nThese changes shall come into effect from 01.05.2023. \\nA.4     Amendment in the Second Schedule to the Customs Tariff Act, \\n1975 \\nThe Second Schedule (Export Tariff) is being amended to align the \\nentries under heading 1202 with that of the First Schedule (Import \\nTariff) .  \\nB. LEGISLATIVE CHANGES IN GST LAWS  \\nB.1 Decriminalisation \\nSection 132 and section 138 of CGST Act are being amended, inter \\nalia, to  - \\n\\uf0b7 raise the minimum threshold of tax amount for launching \\nprosecution under GST from ` one crore to ` two crore, \\nexcept for the offence of issuance of invoices without supply \\nof goods or services or both; \\n\\uf0b7 reduce the compounding amount from the present range of \\n50 per cent  to 150 per cent of tax amount to the range of 25 \\nper cent to 100 per cent; \\n\\uf0b7 decriminalize certain offences specified under clause (g), (j) \\nand (k) of sub-section (1) of section 132 of CGST Act, 2017, \\nviz.- \\no obstruction or preventing any officer in discharge of his \\nduties;  \\no deliberate tempering of material evidence; \\no failure to supply the information. \\nB.2        Facilitate e-commerce for micro enterprises \\nAmendments are being made in section 10 and section 122 of the \\nCGST Act to enable unregistered suppliers and composition \\ntaxpayers to make intra-state supply of goods through E-\\nCommerce Operators (ECOs), subject to certain conditions.  \\nB.3        Amendment to Schedule III of CGST Act, 2017 \\nParas 7, 8 (a) and 8 (b) were inserted in Schedule III of CGST Act, \\n2017 with effect from 01.02.2019 to keep certain transactions/ \\nactivities, such as supplies of goods from a place outside the \\ntaxable territory to another place outside the taxable territory, \\nhigh sea sales and supply of warehoused goods before their home 48 \\n \\n \\n clearance, outside the purview of GST. In order to remove the \\ndoubts and ambiguities regarding taxability of such transactions/ \\nactivities during the period 01.07.2017 to 31.01.2019, provisions \\nare being incorporated to make the said paras effective from \\n01.07.2017. However, no refund of tax paid shall be available in \\ncases where any tax has already been paid in respect of such \\ntransactions/ activities during the period 01.07.2017 to \\n31.01.2019. \\nB.4        Return filing under GST  \\nSections 37, 39, 44 and 52 of CGST Act, 2017 are being amended \\nto restrict filing of returns/ statements to a maximum period of \\nthree years from the due date of filing of the relevant return / \\nstatement.  \\nB.5        Input Tax Credit for expenditure related to CSR \\nSection 17(5) of CGST Act is being amended to provide that input \\ntax credit shall not be available in respect of goods or services or \\nboth received by a taxable person, which are used or intended to \\nbe used for activities relating to his obligations under corporate \\nsocial responsibility referred to in section 135 of the Companies \\nAct, 2013. \\nB.6        Sharing of information \\nA new section 158A in CGST Act is being inserted to enable sharing \\nof the information furnished by the registered person in his return \\nor application of registration or statement of outward supplies, or \\nthe details uploaded by him for generation of electronic invoice or \\nE-way bill or any other details on the common portal, with other \\nsystems in a manner to be prescribed \\nB.7        Amendments in section 2 clause (16) of IGST Act, 2017 \\nClause (16) of section 2 of IGST Act is amended to revise the \\ndefinition of “non-taxable online recipient” by removing the \\ncondition of receipt of online information and database access or \\nretrieval services for purposes other than commerce, industry or \\nany other business or profession so as to provide for taxability of \\nOIDAR service provided by any person located in non-taxable \\nterritory to an unregistered person receiving the said services and \\nlocated in the taxable territory. Further, it also seeks to clarify that \\nthe persons registered solely in terms of clause (vi) of Section 24 \\nof CGST Act shall be treated as unregistered person for the \\npurpose of the said clause. 49 \\n \\n \\n B.8        Online information and database access or retrieval services \\nClause (17) of section 2 of IGST Act is being amended to revise the \\ndefinition of “online information and database access or retrieval \\nservices” to remove the condition of rendering of the said supply \\nbeing essentially automated and involving minimal human \\nintervention.  \\nB.9        Place of supply in certain cases \\nProviso to sub-section (8) of section 12 of the IGST Act is being \\nomitted so as to specify the place of supply, irrespective of \\ndestination of the goods, in cases where the supplier of services \\nand recipient of services are located in India.  \\n  50 \\n \\n \\n  \\nC. CUSTOMS DUTY RATE CHANGES \\n \\nC.1. Reduction in basic customs duty to reduce input costs, deepen value \\naddition, to promote export competitiveness, correct inverted duty \\nstructure so as to boost domestic manufacturing etc [with effect \\nfrom 02.02.2023] \\nS. \\nNo. Commodity  From \\n(per cent)  To \\n(per cent)  \\nI. Agricultural Products  \\n1. Pecan Nuts  100  30 \\n2. Fish meal for manufacture of aquatic \\nfeed 15 5 \\n3. Krill meal for manufacture of aquatic \\nfeed 15 5 \\n4. Fish lipid oil for manufacture of aquatic \\nfeed 30 15 \\n5. Algal Prime (flour) for manufacture of \\naquatic feed  30 15 \\n6. Mineral and Vitamin Premixes for \\nmanufacture of aquatic feed  15 5 \\n7 Crude glycerin for use in manufacture \\nof Epichlorohydrin  7.5 2.5 \\n8 Denatured ethyl alcohol for use in \\nmanufacture of industrial chemicals.  5 Nil \\nII. Minerals  \\n1 Acid grade fluorspar (containing by \\nweight more than 97 per cent of \\ncalcium fluoride)  5 2.5 \\nIII. Gems and Jewellery Sector  \\n1. Seeds for use in manufacturing of \\nrough lab-grown diamonds  5 Nil 51 \\n \\n \\n IV. Capital Goods \\n1. Specified capital goods/machinery for \\nmanufacture of lithium-ion cell for use \\nin battery of electrically operated \\nvehicle (EVs) As \\napplicable Nil  \\n(up to \\n31.03.2024)  \\nV. IT and Electronics  \\n \\n1. Specified chemicals/items for \\nmanufacture of Pre-calcined Ferrite \\nPowder 7.5 Nil \\n(up to \\n31.03.2024)  \\n2. Palladium Tetra Amine Sulphate for \\nmanufacture of parts of connectors 7.5 Nil \\n(up to \\n31.03.2024)  \\n3. Camera lens and its inputs/parts for \\nuse in manufacture of camera module \\nof cellular mobile phone 2.5 Nil \\n4. Specified parts for manufacture of \\nopen cell of TV panel 5 2.5 \\nVI. Electronic Appliances \\n1. Heat coil for manufacture of electric \\nkitchen chimneys 20 15 \\nVII. Others \\n1. Warm blood horse imported by sports \\nperson of outstanding eminence for \\ntraining purpose 30 Nil \\n2. Vehicles, specified automobile \\nparts/components, sub-systems and \\ntyres when imported by notified \\ntesting agencies, for the purpose of \\ntesting and/ or certification, subject to \\nconditions. As \\napplicable Nil \\n \\n \\n 52 \\n \\n \\n C.2. Increase in Customs duty [with effect from 02.02.2023]  \\nS. No.  Commodity \\n Rate of duties  \\nFrom \\n(per cent)  To \\n(per cent)  \\nI. Chemicals \\n1. Styrene 2 \\n(+0.2 SWS) 2.5 \\n(+0.25 \\nSWS) \\n2. Vinyl chloride monomer 2 \\n(+0.2 SWS) 2.5 \\n(+0.25 \\nSWS) \\nII Petrochemical \\n1 Naphtha 1 \\n(+ 0.1 SWS) 2.5 \\n(+0.25  SWS)  \\nIII. Precious Metals \\n1. Silver (including silver plated with gold \\nor platinum), unwrought or in semi-\\nmanufactured forms, or in powder \\nform 7.5 \\n(+ 2.5 \\nAIDC+ 0.75 \\nSWS) 10 \\n(+ 5 AIDC+ \\nNil SWS) \\n2. Silver dore 6.1 \\n(+ 2.5 \\nAIDC+ 0.61  \\nSWS) 10 \\n(+ 4.35 \\nAIDC+ Nil \\nSWS) \\nIV. Gems and Jewellery Sector  \\n1. Articles of Precious Metals such as \\ngold/silver/platinum 20 \\n(+Nil AIDC \\n+2 SWS)  25 \\n(+Nil AIDC \\n+Nil SWS) \\n2. Imitation Jewellery 20 or ` \\n400/kg., \\nwhichever is \\nhigher \\n \\n(+Nil AIDC +2 \\nor ` 40 per \\nKg SWS) \\n 25 or ` \\n600/kg., \\nwhichever is \\nhigher \\n \\n(+Nil AIDC \\n+Nil SWS) 53 \\n \\n \\n S. No.  Commodity \\n Rate of duties  \\nFrom \\n(per cent)  To \\n(per cent)  \\nV. Automobiles  \\n1 Vehicle (including electric vehicles) in \\nSemi-Knocked Down (SKD) form . 30 \\n(+3 SWS) 35 \\n(+Nil SWS) \\n2 Vehicle in Completely Built Unit (CBU) \\nform, other than with CIF more than \\nUSD 40,000 or with engine capacity \\nmore than 3000 cc for petrol-run \\nvehicle and more than 2500 cc for \\ndiesel-run vehicles, or with both 60 \\n(+6  SWS) 70 \\n(+Nil SWS) \\n3 Electrically operated Vehicle in \\nCompletely Built Unit (CBU) form, \\nother than with CIF value more than \\nUSD 40,000 60 \\n(+ 6 SWS) 70 \\n(+Nil SWS) \\nVI. Others \\n1.  Bicycles 30 \\n \\n(+ Nil AIDC \\n+3 SWS) 35 \\n \\n(+ Nil AIDC \\n+Nil SWS) \\n2.  Toys and parts of toys (other than \\nparts of electronic toys) 60 \\n \\n(+Nil AIDC+ \\n6 SWS) 70 \\n \\n(+Nil AIDC+ \\nNil SWS) \\n3.  Compounded Rubber  10 \\n \\n 25 or ` \\n30/kg., \\nwhichever is \\nlower \\n4.  Electric Kitchen Chimney 7.5 \\n 15 \\n \\n* AIDC -Agriculture Infrastructure Development Cess; SWS – Social Welfare \\nSurcharge  \\n \\n 54 \\n \\n \\n D. CHANGES IN CENTRAL EXCISE \\nD.1. NCCD Duty rate  on Cigarettes  [with effect from 02.02.2023]  \\n \\nDescription of goods  Rate of excise duty  \\nFrom \\n(` per 1000 \\nsticks)  To \\n(` per 1000 \\nsticks)  \\nOther than filter cigarettes, of length not \\nexceeding 65 mm  200 230 \\nOther than filter cigarettes, of length exceeding \\n65 mm but not exceeding 70 mm  250 290 \\nFilter cigarettes of length not exceeding 65 mm  440 510 \\nFilter cigarettes of length exceeding 65 mm but \\nnot exceeding 70 mm  440 510 \\nFilter cigarettes of length exceeding 70 mm but \\nnot exceeding 75 mm  545 630 \\nOther cigarettes  735 850 \\nCigarettes of tobacco substitutes  600 690 \\n \\n \\nD.2. Other changes in Central Excise [with effect from 02.02.2023] \\nIn order to promote green fuel, central excise duty exemption is being \\nprovided to blended Compressed Natural Gas from so much of the amount \\nas is equal to the GST paid on Bio Gas/Compressed Bio Gas contained in the \\nblended CNG . \\nE. OTHERS \\nThere are few other changes of minor nature. For details of the budget \\nproposals, the Explanatory Memorandum and other relevant budget \\ndocuments may be referred to. \\n***** \""
            ],
            "application/vnd.google.colaboratory.intrinsic+json": {
              "type": "string"
            }
          },
          "metadata": {},
          "execution_count": 6
        }
      ]
    },
    {
      "cell_type": "code",
      "source": [
        "# We need to split the text using Character Text Split such that it should not increse token size\n",
        "text_splitter = CharacterTextSplitter(\n",
        "    separator = \"\\n\",\n",
        "    chunk_size = 800,\n",
        "    chunk_overlap  = 200,\n",
        "    length_function = len,\n",
        ")\n",
        "texts = text_splitter.split_text(raw_text)"
      ],
      "metadata": {
        "id": "VP6ap_PSRt7s"
      },
      "execution_count": null,
      "outputs": []
    },
    {
      "cell_type": "code",
      "source": [
        "len(texts)"
      ],
      "metadata": {
        "colab": {
          "base_uri": "https://localhost:8080/"
        },
        "id": "i9GLXwH1SVOe",
        "outputId": "4d041f5d-ba38-4821-a19c-c0cdb2f56676"
      },
      "execution_count": null,
      "outputs": [
        {
          "output_type": "execute_result",
          "data": {
            "text/plain": [
              "149"
            ]
          },
          "metadata": {},
          "execution_count": 8
        }
      ]
    },
    {
      "cell_type": "code",
      "source": [
        "# Download the superpowers from OpenAI for our digital companion\n",
        "embeddings = OpenAIEmbeddings()"
      ],
      "metadata": {
        "id": "wqy4vJhrSXUT"
      },
      "execution_count": null,
      "outputs": []
    },
    {
      "cell_type": "code",
      "source": [
        "# Create a digital magnifying glass to search for textual clues\n",
        "document_search = FAISS.from_texts(texts, embeddings)"
      ],
      "metadata": {
        "id": "3igYiWjISjvS"
      },
      "execution_count": null,
      "outputs": []
    },
    {
      "cell_type": "code",
      "source": [
        "document_search"
      ],
      "metadata": {
        "colab": {
          "base_uri": "https://localhost:8080/"
        },
        "id": "6bJpE1qlSlNb",
        "outputId": "2eebaa45-b187-4f57-da0e-625940ae5754"
      },
      "execution_count": null,
      "outputs": [
        {
          "output_type": "execute_result",
          "data": {
            "text/plain": [
              "<langchain.vectorstores.faiss.FAISS at 0x7f7abd1445b0>"
            ]
          },
          "metadata": {},
          "execution_count": 11
        }
      ]
    },
    {
      "cell_type": "markdown",
      "source": [
        "### Load the powerful question-answering chain to solve the mysteries"
      ],
      "metadata": {
        "id": "-BZXNVoCgddG"
      }
    },
    {
      "cell_type": "code",
      "source": [
        "from langchain.chains.question_answering import load_qa_chain\n",
        "from langchain.llms import OpenAI"
      ],
      "metadata": {
        "id": "Po-ip1fPSonv"
      },
      "execution_count": null,
      "outputs": []
    },
    {
      "cell_type": "code",
      "source": [
        "chain = load_qa_chain(OpenAI(), chain_type=\"stuff\")"
      ],
      "metadata": {
        "id": "iYl2PzKSSqg0"
      },
      "execution_count": null,
      "outputs": []
    },
    {
      "cell_type": "markdown",
      "source": [
        "##Time to ask questions\n",
        "* now we have ready our embedding and the chain, lets ask our virtual detective to find some information. Let's ask a random topic we know from the PDF we're testing.\n",
        " * query \"Vision for Amrit Kaal\""
      ],
      "metadata": {
        "id": "5dP-4JY0g1dd"
      }
    },
    {
      "cell_type": "code",
      "source": [
        "query = \"Vision for Amrit Kaal\"\n",
        "docs = document_search.similarity_search(query)\n",
        "chain.run(input_documents=docs, question=query)"
      ],
      "metadata": {
        "colab": {
          "base_uri": "https://localhost:8080/",
          "height": 105
        },
        "id": "GQafhpOz4IsV",
        "outputId": "b05ede70-3d69-40ee-a4af-ba0bd14659b4"
      },
      "execution_count": null,
      "outputs": [
        {
          "output_type": "execute_result",
          "data": {
            "text/plain": [
              "' Our vision for the Amrit Kaal includes technology-driven and knowledge-based economy with strong public finances, and a robust financial sector. To achieve this, Jan Bhagidari through Sabka Saath Sabka Prayas is essential. The economic agenda for achieving this vision focuses on three things: first, facilitating ample opportunities for citizens, especially the youth, to fulfil their aspirations; second, providing strong impetus to growth and job creation; and third, strengthening macro-economic stability.'"
            ],
            "application/vnd.google.colaboratory.intrinsic+json": {
              "type": "string"
            }
          },
          "metadata": {},
          "execution_count": 14
        }
      ]
    },
    {
      "cell_type": "markdown",
      "source": [
        "* Now, let's embark on another quest to uncover details about agriculture targets"
      ],
      "metadata": {
        "id": "lHj5Q_OrhihA"
      }
    },
    {
      "cell_type": "code",
      "source": [
        "query = \"How much the agriculture target will be increased to and what the focus will be\"\n",
        "docs = document_search.similarity_search(query)\n",
        "chain.run(input_documents=docs, question=query)"
      ],
      "metadata": {
        "colab": {
          "base_uri": "https://localhost:8080/",
          "height": 53
        },
        "id": "7sjc1Xh2SsTs",
        "outputId": "2c3ef36a-4732-4f54-d704-eda850c292a0"
      },
      "execution_count": null,
      "outputs": [
        {
          "output_type": "execute_result",
          "data": {
            "text/plain": [
              "' The agriculture credit target will be increased to ` 20 lakh crore with focus on animal husbandry, dairy and fisheries.'"
            ],
            "application/vnd.google.colaboratory.intrinsic+json": {
              "type": "string"
            }
          },
          "metadata": {},
          "execution_count": 16
        }
      ]
    },
    {
      "cell_type": "markdown",
      "source": [
        "Amazing!"
      ],
      "metadata": {
        "id": "VbN8-vmwhqdM"
      }
    },
    {
      "cell_type": "markdown",
      "source": [
        "## Fetching from the web\n",
        "* Expand your horizons beyond local PDFs – fetch documents from the web\n",
        "* Lets have a look from one of the most ground breaking paper from ther last yeatrs regarding what a game-changer is attention for Gen AI in general."
      ],
      "metadata": {
        "id": "UYYOUZIThvTL"
      }
    },
    {
      "cell_type": "code",
      "source": [
        "from langchain.document_loaders import OnlinePDFLoader"
      ],
      "metadata": {
        "id": "7J9m_8YdSwe2"
      },
      "execution_count": null,
      "outputs": []
    },
    {
      "cell_type": "code",
      "source": [
        "loader = OnlinePDFLoader(\"https://arxiv.org/pdf/1706.03762.pdf\")"
      ],
      "metadata": {
        "id": "8DotjyQEh-0N"
      },
      "execution_count": null,
      "outputs": []
    },
    {
      "cell_type": "markdown",
      "source": [
        "* Equip yourself with additional packages to handle unstructured data"
      ],
      "metadata": {
        "id": "asAftHVMiasI"
      }
    },
    {
      "cell_type": "code",
      "source": [
        "!pip install unstructured"
      ],
      "metadata": {
        "colab": {
          "base_uri": "https://localhost:8080/"
        },
        "id": "iQ0yFPh6iZ_p",
        "outputId": "111e14fe-2282-47c9-da47-52db55618739"
      },
      "execution_count": null,
      "outputs": [
        {
          "output_type": "stream",
          "name": "stdout",
          "text": [
            "Looking in indexes: https://pypi.org/simple, https://us-python.pkg.dev/colab-wheels/public/simple/\n",
            "Collecting unstructured\n",
            "  Downloading unstructured-0.7.5-py3-none-any.whl (1.3 MB)\n",
            "\u001b[2K     \u001b[90m━━━━━━━━━━━━━━━━━━━━━━━━━━━━━━━━━━━━━━━━\u001b[0m \u001b[32m1.3/1.3 MB\u001b[0m \u001b[31m24.6 MB/s\u001b[0m eta \u001b[36m0:00:00\u001b[0m\n",
            "\u001b[?25hCollecting argilla (from unstructured)\n",
            "  Downloading argilla-1.9.0-py3-none-any.whl (2.5 MB)\n",
            "\u001b[2K     \u001b[90m━━━━━━━━━━━━━━━━━━━━━━━━━━━━━━━━━━━━━━━━\u001b[0m \u001b[32m2.5/2.5 MB\u001b[0m \u001b[31m86.8 MB/s\u001b[0m eta \u001b[36m0:00:00\u001b[0m\n",
            "\u001b[?25hRequirement already satisfied: chardet in /usr/local/lib/python3.10/dist-packages (from unstructured) (4.0.0)\n",
            "Collecting filetype (from unstructured)\n",
            "  Downloading filetype-1.2.0-py2.py3-none-any.whl (19 kB)\n",
            "Requirement already satisfied: lxml in /usr/local/lib/python3.10/dist-packages (from unstructured) (4.9.2)\n",
            "Collecting msg-parser (from unstructured)\n",
            "  Downloading msg_parser-1.2.0-py2.py3-none-any.whl (101 kB)\n",
            "\u001b[2K     \u001b[90m━━━━━━━━━━━━━━━━━━━━━━━━━━━━━━━━━━━━━━\u001b[0m \u001b[32m101.8/101.8 kB\u001b[0m \u001b[31m11.6 MB/s\u001b[0m eta \u001b[36m0:00:00\u001b[0m\n",
            "\u001b[?25hRequirement already satisfied: nltk in /usr/local/lib/python3.10/dist-packages (from unstructured) (3.8.1)\n",
            "Requirement already satisfied: openpyxl in /usr/local/lib/python3.10/dist-packages (from unstructured) (3.0.10)\n",
            "Requirement already satisfied: pandas in /usr/local/lib/python3.10/dist-packages (from unstructured) (1.5.3)\n",
            "Collecting pdf2image (from unstructured)\n",
            "  Downloading pdf2image-1.16.3-py3-none-any.whl (11 kB)\n",
            "Collecting pdfminer.six (from unstructured)\n",
            "  Downloading pdfminer.six-20221105-py3-none-any.whl (5.6 MB)\n",
            "\u001b[2K     \u001b[90m━━━━━━━━━━━━━━━━━━━━━━━━━━━━━━━━━━━━━━━━\u001b[0m \u001b[32m5.6/5.6 MB\u001b[0m \u001b[31m94.9 MB/s\u001b[0m eta \u001b[36m0:00:00\u001b[0m\n",
            "\u001b[?25hRequirement already satisfied: pillow in /usr/local/lib/python3.10/dist-packages (from unstructured) (8.4.0)\n",
            "Collecting pypandoc (from unstructured)\n",
            "  Downloading pypandoc-1.11-py3-none-any.whl (20 kB)\n",
            "Collecting python-docx (from unstructured)\n",
            "  Downloading python-docx-0.8.11.tar.gz (5.6 MB)\n",
            "\u001b[2K     \u001b[90m━━━━━━━━━━━━━━━━━━━━━━━━━━━━━━━━━━━━━━━━\u001b[0m \u001b[32m5.6/5.6 MB\u001b[0m \u001b[31m93.7 MB/s\u001b[0m eta \u001b[36m0:00:00\u001b[0m\n",
            "\u001b[?25h  Preparing metadata (setup.py) ... \u001b[?25l\u001b[?25hdone\n",
            "Collecting python-pptx (from unstructured)\n",
            "  Downloading python-pptx-0.6.21.tar.gz (10.1 MB)\n",
            "\u001b[2K     \u001b[90m━━━━━━━━━━━━━━━━━━━━━━━━━━━━━━━━━━━━━━━\u001b[0m \u001b[32m10.1/10.1 MB\u001b[0m \u001b[31m106.9 MB/s\u001b[0m eta \u001b[36m0:00:00\u001b[0m\n",
            "\u001b[?25h  Preparing metadata (setup.py) ... \u001b[?25l\u001b[?25hdone\n",
            "Collecting python-magic (from unstructured)\n",
            "  Downloading python_magic-0.4.27-py2.py3-none-any.whl (13 kB)\n",
            "Requirement already satisfied: markdown in /usr/local/lib/python3.10/dist-packages (from unstructured) (3.4.3)\n",
            "Requirement already satisfied: requests in /usr/local/lib/python3.10/dist-packages (from unstructured) (2.27.1)\n",
            "Requirement already satisfied: tabulate in /usr/local/lib/python3.10/dist-packages (from unstructured) (0.8.10)\n",
            "Requirement already satisfied: xlrd in /usr/local/lib/python3.10/dist-packages (from unstructured) (2.0.1)\n",
            "Collecting httpx<0.24,>=0.15 (from argilla->unstructured)\n",
            "  Downloading httpx-0.23.3-py3-none-any.whl (71 kB)\n",
            "\u001b[2K     \u001b[90m━━━━━━━━━━━━━━━━━━━━━━━━━━━━━━━━━━━━━━━━\u001b[0m \u001b[32m71.5/71.5 kB\u001b[0m \u001b[31m10.0 MB/s\u001b[0m eta \u001b[36m0:00:00\u001b[0m\n",
            "\u001b[?25hCollecting deprecated~=1.2.0 (from argilla->unstructured)\n",
            "  Downloading Deprecated-1.2.14-py2.py3-none-any.whl (9.6 kB)\n",
            "Requirement already satisfied: packaging>=20.0 in /usr/local/lib/python3.10/dist-packages (from argilla->unstructured) (23.1)\n",
            "Requirement already satisfied: pydantic>=1.10.7 in /usr/local/lib/python3.10/dist-packages (from argilla->unstructured) (1.10.7)\n",
            "Requirement already satisfied: wrapt<1.15,>=1.13 in /usr/local/lib/python3.10/dist-packages (from argilla->unstructured) (1.14.1)\n",
            "Requirement already satisfied: numpy<1.24.0 in /usr/local/lib/python3.10/dist-packages (from argilla->unstructured) (1.22.4)\n",
            "Requirement already satisfied: tqdm>=4.27.0 in /usr/local/lib/python3.10/dist-packages (from argilla->unstructured) (4.65.0)\n",
            "Collecting backoff (from argilla->unstructured)\n",
            "  Downloading backoff-2.2.1-py3-none-any.whl (15 kB)\n",
            "Collecting monotonic (from argilla->unstructured)\n",
            "  Downloading monotonic-1.6-py2.py3-none-any.whl (8.2 kB)\n",
            "Collecting rich<=13.0.1 (from argilla->unstructured)\n",
            "  Downloading rich-13.0.1-py3-none-any.whl (238 kB)\n",
            "\u001b[2K     \u001b[90m━━━━━━━━━━━━━━━━━━━━━━━━━━━━━━━━━━━━━━\u001b[0m \u001b[32m238.1/238.1 kB\u001b[0m \u001b[31m25.7 MB/s\u001b[0m eta \u001b[36m0:00:00\u001b[0m\n",
            "\u001b[?25hRequirement already satisfied: typer<1.0.0,>=0.6.0 in /usr/local/lib/python3.10/dist-packages (from argilla->unstructured) (0.7.0)\n",
            "Requirement already satisfied: python-dateutil>=2.8.1 in /usr/local/lib/python3.10/dist-packages (from pandas->unstructured) (2.8.2)\n",
            "Requirement already satisfied: pytz>=2020.1 in /usr/local/lib/python3.10/dist-packages (from pandas->unstructured) (2022.7.1)\n",
            "Collecting olefile>=0.46 (from msg-parser->unstructured)\n",
            "  Downloading olefile-0.46.zip (112 kB)\n",
            "\u001b[2K     \u001b[90m━━━━━━━━━━━━━━━━━━━━━━━━━━━━━━━━━━━━━━\u001b[0m \u001b[32m112.2/112.2 kB\u001b[0m \u001b[31m12.6 MB/s\u001b[0m eta \u001b[36m0:00:00\u001b[0m\n",
            "\u001b[?25h  Preparing metadata (setup.py) ... \u001b[?25l\u001b[?25hdone\n",
            "Requirement already satisfied: click in /usr/local/lib/python3.10/dist-packages (from nltk->unstructured) (8.1.3)\n",
            "Requirement already satisfied: joblib in /usr/local/lib/python3.10/dist-packages (from nltk->unstructured) (1.2.0)\n",
            "Requirement already satisfied: regex>=2021.8.3 in /usr/local/lib/python3.10/dist-packages (from nltk->unstructured) (2022.10.31)\n",
            "Requirement already satisfied: et-xmlfile in /usr/local/lib/python3.10/dist-packages (from openpyxl->unstructured) (1.1.0)\n",
            "Requirement already satisfied: charset-normalizer>=2.0.0 in /usr/local/lib/python3.10/dist-packages (from pdfminer.six->unstructured) (2.0.12)\n",
            "Requirement already satisfied: cryptography>=36.0.0 in /usr/local/lib/python3.10/dist-packages (from pdfminer.six->unstructured) (40.0.2)\n",
            "Collecting XlsxWriter>=0.5.7 (from python-pptx->unstructured)\n",
            "  Downloading XlsxWriter-3.1.2-py3-none-any.whl (153 kB)\n",
            "\u001b[2K     \u001b[90m━━━━━━━━━━━━━━━━━━━━━━━━━━━━━━━━━━━━━━\u001b[0m \u001b[32m153.0/153.0 kB\u001b[0m \u001b[31m16.7 MB/s\u001b[0m eta \u001b[36m0:00:00\u001b[0m\n",
            "\u001b[?25hRequirement already satisfied: urllib3<1.27,>=1.21.1 in /usr/local/lib/python3.10/dist-packages (from requests->unstructured) (1.26.15)\n",
            "Requirement already satisfied: certifi>=2017.4.17 in /usr/local/lib/python3.10/dist-packages (from requests->unstructured) (2022.12.7)\n",
            "Requirement already satisfied: idna<4,>=2.5 in /usr/local/lib/python3.10/dist-packages (from requests->unstructured) (3.4)\n",
            "Requirement already satisfied: cffi>=1.12 in /usr/local/lib/python3.10/dist-packages (from cryptography>=36.0.0->pdfminer.six->unstructured) (1.15.1)\n",
            "Collecting httpcore<0.17.0,>=0.15.0 (from httpx<0.24,>=0.15->argilla->unstructured)\n",
            "  Downloading httpcore-0.16.3-py3-none-any.whl (69 kB)\n",
            "\u001b[2K     \u001b[90m━━━━━━━━━━━━━━━━━━━━━━━━━━━━━━━━━━━━━━━━\u001b[0m \u001b[32m69.6/69.6 kB\u001b[0m \u001b[31m6.8 MB/s\u001b[0m eta \u001b[36m0:00:00\u001b[0m\n",
            "\u001b[?25hCollecting rfc3986[idna2008]<2,>=1.3 (from httpx<0.24,>=0.15->argilla->unstructured)\n",
            "  Downloading rfc3986-1.5.0-py2.py3-none-any.whl (31 kB)\n",
            "Requirement already satisfied: sniffio in /usr/local/lib/python3.10/dist-packages (from httpx<0.24,>=0.15->argilla->unstructured) (1.3.0)\n",
            "Requirement already satisfied: typing-extensions>=4.2.0 in /usr/local/lib/python3.10/dist-packages (from pydantic>=1.10.7->argilla->unstructured) (4.5.0)\n",
            "Requirement already satisfied: six>=1.5 in /usr/local/lib/python3.10/dist-packages (from python-dateutil>=2.8.1->pandas->unstructured) (1.16.0)\n",
            "Collecting commonmark<0.10.0,>=0.9.0 (from rich<=13.0.1->argilla->unstructured)\n",
            "  Downloading commonmark-0.9.1-py2.py3-none-any.whl (51 kB)\n",
            "\u001b[2K     \u001b[90m━━━━━━━━━━━━━━━━━━━━━━━━━━━━━━━━━━━━━━━━\u001b[0m \u001b[32m51.1/51.1 kB\u001b[0m \u001b[31m6.3 MB/s\u001b[0m eta \u001b[36m0:00:00\u001b[0m\n",
            "\u001b[?25hRequirement already satisfied: pygments<3.0.0,>=2.6.0 in /usr/local/lib/python3.10/dist-packages (from rich<=13.0.1->argilla->unstructured) (2.14.0)\n",
            "Requirement already satisfied: pycparser in /usr/local/lib/python3.10/dist-packages (from cffi>=1.12->cryptography>=36.0.0->pdfminer.six->unstructured) (2.21)\n",
            "Collecting h11<0.15,>=0.13 (from httpcore<0.17.0,>=0.15.0->httpx<0.24,>=0.15->argilla->unstructured)\n",
            "  Downloading h11-0.14.0-py3-none-any.whl (58 kB)\n",
            "\u001b[2K     \u001b[90m━━━━━━━━━━━━━━━━━━━━━━━━━━━━━━━━━━━━━━━━\u001b[0m \u001b[32m58.3/58.3 kB\u001b[0m \u001b[31m7.1 MB/s\u001b[0m eta \u001b[36m0:00:00\u001b[0m\n",
            "\u001b[?25hRequirement already satisfied: anyio<5.0,>=3.0 in /usr/local/lib/python3.10/dist-packages (from httpcore<0.17.0,>=0.15.0->httpx<0.24,>=0.15->argilla->unstructured) (3.6.2)\n",
            "Building wheels for collected packages: python-docx, python-pptx, olefile\n",
            "  Building wheel for python-docx (setup.py) ... \u001b[?25l\u001b[?25hdone\n",
            "  Created wheel for python-docx: filename=python_docx-0.8.11-py3-none-any.whl size=184491 sha256=279068b2c8eb1fbd47024f8e5fc2cd48c1f1438d8a9a90d2311b8033ae862cf1\n",
            "  Stored in directory: /root/.cache/pip/wheels/80/27/06/837436d4c3bd989b957a91679966f207bfd71d358d63a8194d\n",
            "  Building wheel for python-pptx (setup.py) ... \u001b[?25l\u001b[?25hdone\n",
            "  Created wheel for python-pptx: filename=python_pptx-0.6.21-py3-none-any.whl size=470935 sha256=92bd78ac24b1a2be889e51ff30420102e1ca88755fec992a7e0dd696cd47113b\n",
            "  Stored in directory: /root/.cache/pip/wheels/ea/dd/74/01b3ec7256a0800b99384e9a0f7620e358afc3a51a59bf9b49\n",
            "  Building wheel for olefile (setup.py) ... \u001b[?25l\u001b[?25hdone\n",
            "  Created wheel for olefile: filename=olefile-0.46-py2.py3-none-any.whl size=35417 sha256=0d83772fba3f5331022ed31ee5740ac92ff9c94d85429dd8e6c0220be635ee55\n",
            "  Stored in directory: /root/.cache/pip/wheels/02/39/c0/9eb1f7a42b4b38f6f333b6314d4ed11c46f12a0f7b78194f0d\n",
            "Successfully built python-docx python-pptx olefile\n",
            "Installing collected packages: rfc3986, monotonic, filetype, commonmark, XlsxWriter, rich, python-magic, python-docx, pypandoc, pdf2image, olefile, h11, deprecated, backoff, python-pptx, msg-parser, httpcore, pdfminer.six, httpx, argilla, unstructured\n",
            "  Attempting uninstall: rich\n",
            "    Found existing installation: rich 13.3.4\n",
            "    Uninstalling rich-13.3.4:\n",
            "      Successfully uninstalled rich-13.3.4\n",
            "Successfully installed XlsxWriter-3.1.2 argilla-1.9.0 backoff-2.2.1 commonmark-0.9.1 deprecated-1.2.14 filetype-1.2.0 h11-0.14.0 httpcore-0.16.3 httpx-0.23.3 monotonic-1.6 msg-parser-1.2.0 olefile-0.46 pdf2image-1.16.3 pdfminer.six-20221105 pypandoc-1.11 python-docx-0.8.11 python-magic-0.4.27 python-pptx-0.6.21 rfc3986-1.5.0 rich-13.0.1 unstructured-0.7.5\n"
          ]
        }
      ]
    },
    {
      "cell_type": "code",
      "source": [
        "data = loader.load()"
      ],
      "metadata": {
        "id": "TjOBIPPEiWyA"
      },
      "execution_count": null,
      "outputs": []
    },
    {
      "cell_type": "markdown",
      "source": [
        " Let's have a look inside"
      ],
      "metadata": {
        "id": "gJvz8z__ig64"
      }
    },
    {
      "cell_type": "code",
      "source": [
        "data"
      ],
      "metadata": {
        "colab": {
          "base_uri": "https://localhost:8080/"
        },
        "id": "WHG7rWdIiYa3",
        "outputId": "f498e968-4dbf-4c23-9278-d6a6341cc7a7"
      },
      "execution_count": null,
      "outputs": [
        {
          "output_type": "execute_result",
          "data": {
            "text/plain": [
              "[Document(page_content='A WEAK (k, k)-LEFSCHETZ THEOREM FOR PROJECTIVE TORIC ORBIFOLDS\\n\\nWilliam D. Montoya\\n\\n3 2 0 2\\n\\nInstituto de Matem´atica, Estat´ıstica e Computa¸c˜ao Cient´ıﬁca, Universidade Estadual de Campinas (UNICAMP),\\n\\nb e F 7\\n\\nRua S´ergio Buarque de Holanda 651, 13083-859, Campinas, SP, Brazil\\n\\n]\\n\\nFebruary 9, 2023\\n\\nG A . h t a m\\n\\nAbstract\\n\\nFirstly we show a generalization of the (1, 1)-Lefschetz theorem for projective toric orbifolds and secondly we prove that on 2k-dimensional quasi-smooth hyper- surfaces coming from quasi-smooth intersection surfaces, under the Cayley trick, every rational (k, k)-cohomology class is algebraic, i.e., the Hodge conjecture holds on them.\\n\\n[\\n\\n1 v 3 0 8 3 0 . 2 0 3 2 : v i X r a\\n\\n1\\n\\nIntroduction\\n\\nIn [3] we proved that, under suitable conditions, on a very general codimension s quasi- smooth intersection subvariety X in a projective toric orbifold Pd Σ with d + s = 2(k + 1) the Hodge conjecture holds, that is, every (p, p)-cohomology class, under the Poincar´e duality is a rational linear combination of fundamental classes of algebraic subvarieties of X. The proof of the above-mentioned result relies, for p ≠ d + 1 − s, on a Lefschetz\\n\\nDate: February 9, 2023 2020 Mathematics Subject Classiﬁcation: 14C30, 14M10, 14J70, 14M25 Keywords: (1,1)- Lefschetz theorem, Hodge conjecture, toric varieties, complete intersection Email: wmontoya@ime.unicamp.br\\n\\n1\\n\\ntheorem ([7]) and the Hard Lefschetz theorem for projective orbifolds ([11]). When p = d + 1 − s the proof relies on the Cayley trick, a trick which associates to X a quasi-smooth hypersurface Y in a projective vector bundle, and the Cayley Proposition (4.3) which gives an isomorphism of some primitive cohomologies (4.2) of X and Y . The Cayley trick, following the philosophy of Mavlyutov in [7], reduces results known for quasi-smooth hypersurfaces to quasi-smooth intersection subvarieties. The idea in this paper goes the other way around, we translate some results for quasi-smooth intersection subvarieties to quasi-smooth hypersurfaces, mainly the (1, 1)-Lefschetz theorem.\\n\\nAcknowledgement. I thank Prof. Ugo Bruzzo and Tiago Fonseca for useful discus-\\n\\nsions. I also acknowledge support from FAPESP postdoctoral grant No. 2019/23499-7.\\n\\n2 Preliminaries and Notation\\n\\n2.1 Toric varieties\\n\\nLet M be a free abelian group of rank d, let N = Hom(M, Z), and NR = N ⊗Z R.\\n\\nA convex subset σ ⊂ NR is a rational k-dimensional simplicial cone if there exist k linearly independent primitive elements e1, . . . , ek ∈ N such that σ = {µ1e1 + ⋯ + µkek}.\\n\\nDeﬁnition 2.1.\\n\\nThe generators ei are integral if for every i and any nonnegative rational number µ\\n\\nthe product µei is in N only if µ is an integer.\\n\\nGiven two rational simplicial cones σ, σ′ one says that σ′ is a face of σ (σ′ < σ) if the set of integral generators of σ′ is a subset of the set of integral generators of σ.\\n\\nA ﬁnite set Σ = {σ1, . . . , σt} of rational simplicial cones is called a rational simplicial\\n\\ncomplete d-dimensional fan if:\\n\\n1. all faces of cones in Σ are in Σ;\\n\\n2. if σ, σ′ ∈ Σ then σ ∩ σ′ < σ and σ ∩ σ′ < σ′;\\n\\n3. NR = σ1 ∪ ⋅ ⋅ ⋅ ∪ σt.\\n\\nA rational simplicial complete d-dimensional fan Σ deﬁnes a d-dimensional toric variety Σ having only orbifold singularities which we assume to be projective. Moreover, T ∶= Pd N ⊗Z C∗ ≃ (C∗)d is the torus action on Pd Σ. We denote by Σ(i) the i-dimensional cones\\n\\n2\\n\\nof Σ and each ρ ∈ Σ corresponds to an irreducible T -invariant Weil divisor Dρ on Pd Cl(Σ) be the group of Weil divisors on Pd\\n\\nΣ. Let\\n\\nΣ module rational equivalences.\\n\\nThe total coordinate ring of Pd\\n\\nΣ is the polynomial ring S = C[xρ ∣ ρ ∈ Σ(1)], S has the ρ ∈\\n\\nCl(Σ)-grading, a Weil divisor D = ∑ρ∈Σ(1) uρDρ determines the monomial xu ∶= ∏ρ∈Σ(1) xuρ S and conversely deg(xu) = [D] ∈ Cl(Σ).\\n\\nFor a cone σ ∈ Σ, ˆσ is the set of 1-dimensional cone in Σ that are not contained in σ\\n\\nand xˆσ ∶= ∏ρ∈ˆσ xρ is the associated monomial in S.\\n\\nΣ is the monomial ideal BΣ ∶=< xˆσ ∣ σ ∈ Σ > and\\n\\nDeﬁnition 2.2. The irrelevant ideal of Pd the zero locus Z(Σ) ∶= V(BΣ) in the aﬃne space Ad ∶= Spec(S) is the irrelevant locus.\\n\\nProposition 2.3 (Theorem 5.1.11 [5]). The toric variety Pd Σ is a categorical quotient Ad ∖ Z(Σ) by the group Hom(Cl(Σ), C∗) and the group action is induced by the Cl(Σ)- grading of S.\\n\\n2.2 Orbifolds\\n\\nNow we give a brief introduction to complex orbifolds and we mention the needed theorems for the next section. Namely: de Rham theorem and Dolbeault theorem for complex orbifolds.\\n\\nDeﬁnition 2.4. A complex orbifold of complex dimension d is a singular complex space whose singularities are locally isomorphic to quotient singularities Cd/G, for ﬁnite sub- groups G ⊂ Gl(d, C).\\n\\nDeﬁnition 2.5. A diﬀerential form on a complex orbifold Z is deﬁned locally at z ∈ Z as a G-invariant diﬀerential form on Cd where G ⊂ Gl(d, C) and Z is locally isomorphic to Cd/G around z.\\n\\nRoughly speaking the local geometry of orbifolds reduces to local G-invariant geometry. We have a complex of diﬀerential forms (A●(Z), d) and a double complex (A●,●(Z), ∂, ¯∂) of bigraded diﬀerential forms which deﬁne the de Rham and the Dolbeault cohomology groups (for a ﬁxed p ∈ N) respectively:\\n\\nker ¯∂ im ¯∂\\n\\nker d im d\\n\\nand H p,●(Z, ¯∂) ∶=\\n\\ndR(Z, C) ∶=\\n\\nH ●\\n\\nTheorem 2.6 (Theorem 3.4.4 in [4] and Theorem 1.2 in [1] ). Let Z be a compact complex orbifold. There are natural isomorphisms:\\n\\n3\\n\\nH ●\\n\\ndR(Z, C) ≃ H ●(Z, C)\\n\\nH p,●(Z, ¯∂) ≃ H ●(X, Ωp\\n\\nZ )\\n\\n3\\n\\n(1,1)-Lefschetz theorem for projective toric orbifolds\\n\\nDeﬁnition 3.1. A subvariety X ⊂ Pd Z(Σ).\\n\\nΣ is quasi-smooth if V(IX ) ⊂ A#Σ(1) is smooth outside\\n\\nExample 3.2. Quasi-smooth hypersurfaces or more generally quasi-smooth intersection sub- varieties are quasi-smooth subvarieties (see [2] or [7] for more details).\\n\\n△\\n\\nRemark 3.3. Quasi-smooth subvarieties are suborbifolds of Pd Σ in the sense of Satake in [8]. Intuitively speaking they are subvarieties whose only singularities come from the ambient space.\\n\\n△\\n\\nTheorem 3.4. Let X ⊂ Pd class λ ∈ H 1,1(X) ∩ H 2(X, Z) is algebraic\\n\\nΣ be a quasi-smooth subvariety. Then every (1, 1)-cohomology\\n\\nProof. From the exponential short exact sequence\\n\\n0 → Z → OX → O∗ X\\n\\n→ 0\\n\\nwe have a long exact sequence in cohomology\\n\\nX ) → H 2(X, Z) → H 2(OX ) ≃ H 0,2(X)\\n\\nH 1(O∗\\n\\nwhere the last isomorphisms is due to Steenbrink in [9]. Now, it is enough to prove the commutativity of the next diagram\\n\\n/\\n\\n/\\n\\nH 2(X, OX )\\n\\nH 2(X, Z)\\n\\n(cid:15)\\n\\n(cid:15)\\n\\nH 2(X, C)\\n\\n≃ Dolbeault\\n\\nde Rham ≃\\n\\n(cid:15)\\n\\n(cid:15)\\n\\n(cid:15)\\n\\n(cid:15)\\n\\n/\\n\\n/ H 0,2\\n\\nH 2\\n\\ndR(X, C)\\n\\n¯∂ (X)\\n\\n4\\n\\nThe key points are the de Rham and Dolbeault’s isomorphisms for orbifolds. The rest\\n\\nof the proof follows as the (1, 1)-Lefschetz theorem in [6].\\n\\nRemark 3.5. For k = 1 and Pd Lefschetz theorem.\\n\\nΣ as the projective space, we recover the classical (1, 1)-\\n\\n△\\n\\nBy the Hard Lefschetz Theorem for projective orbifolds (see [11] for details) we get an\\n\\nisomorphism of cohomologies :\\n\\nH ●(X, Q) ≃ H 2 dim X−●(X, Q)\\n\\ngiven by the Lefschetz morphism and since it is a morphism of Hodge structures, we have:\\n\\nH 1,1(X, Q) ≃ H dim X−1,dim X−1(X, Q)\\n\\nFor X as before:\\n\\nCorollary 3.6. If the dimension of X is 1, 2 or 3. The Hodge conjecture holds on X.\\n\\nProof. If the dimCX = 1 the result is clear by the Hard Lefschetz theorem for projective orbifolds. The dimension 2 and 3 cases are covered by Theorem 3.5 and the Hard Lefschetz. theorem.\\n\\n4 Cayley trick and Cayley proposition\\n\\nThe Cayley trick is a way to associate to a quasi-smooth intersection subvariety a quasi- smooth hypersurface. Let L1, . . . , Ls be line bundles on Pd Σ be the projective space bundle associated to the vector bundle E = L1 ⊕ ⋯ ⊕ Ls. It is known that P(E) is a (d + s − 1)-dimensional simplicial toric variety whose fan depends on the degrees of the line bundles and the fan Σ. Furthermore, if the Cox ring, without considering the grading, of Pd\\n\\nΣ and let π ∶ P(E) → Pd\\n\\nΣ is C[x1, . . . , xm] then the Cox ring of P(E) is\\n\\nC[x1, . . . , xm, y1, . . . , ys]\\n\\nMoreover for X a quasi-smooth intersection subvariety cut oﬀ by f1, . . . , fs with deg(fi) = [Li] we relate the hypersurface Y cut oﬀ by F = y1f1 + ⋅ ⋅ ⋅ + ysfs which turns out to be quasi-smooth. For more details see Section 2 in [7].\\n\\n5\\n\\nWe will denote P(E) as Pd+s−1\\n\\nΣ,X to keep track of its relation with X and Pd Σ.\\n\\nThe following is a key remark.\\n\\nRemark 4.1. There is a morphism ι ∶ X → Y ⊂ Pd+s−1 with y ≠ 0 has a preimage. Hence for any subvariety W = V(IW ) ⊂ X ⊂ Pd W ′ ⊂ Y ⊂ Pd+s−1 Σ,X such that π(W ′) = W , i.e., W ′ = {z = (x, y) ∣ x ∈ W }.\\n\\nΣ,X . Moreover every point z ∶= (x, y) ∈ Y Σ there exists\\n\\n△\\n\\nFor X ⊂ Pd\\n\\nΣ a quasi-smooth intersection variety the morphism in cohomology induced\\n\\nΣ, C) → H d−s(X, C) is injective by Proposition 1.4 in [7].\\n\\nby the inclusion i∗ ∶ H d−s(Pd\\n\\nDeﬁnition 4.2. The primitive cohomology of H d−s and H d−s prim(X, Q) with rational coeﬃcients.\\n\\nprim(X) is the quotient H d−s(X, C)/i∗(H d−s(Pd\\n\\nΣ, C))\\n\\nH d−s(Pd\\n\\nΣ, C) and H d−s(X, C) have pure Hodge structures, and the morphism i∗ is com-\\n\\npatible with them, so that H d−s\\n\\nprim(X) gets a pure Hodge structure.\\n\\nThe next Proposition is the Cayley proposition.\\n\\nProposition 4.3. [Proposition 2.3 in [3] ] Let X = X1 ∩⋅ ⋅ ⋅∩Xs be a quasi-smooth intersec- , d+s−3 tion subvariety in Pd 2\\n\\nΣ cut oﬀ by homogeneous polynomials f1 . . . fs. Then for p ≠ d+s−1\\n\\n2\\n\\nH p−1,d+s−1−p\\n\\n(Y ) ≃ H p−s,d−p\\n\\nprim (X).\\n\\nprim\\n\\nCorollary 4.4. If d + s = 2(k + 1),\\n\\nH k+1−s,k+1−s\\n\\n(X) ≃ H k,k\\n\\nprim(Y )\\n\\nprim\\n\\nRemark 4.5. The above isomorphisms are also true with rational coeﬃcients since H ●(X, C) = H ●(X, Q) ⊗Q C. See the beginning of Section 7.1 in [10] for more details.\\n\\n△\\n\\n5 Main result\\n\\nTheorem 5.1. Let Y = {F = y1f1 + ⋯ + ykfk = 0} ⊂ P2k+1 associated to the quasi-smooth intersection surface X = Xf1 ∩ ⋅ ⋅ ⋅ ∩ Xfk ⊂ Pk+2 the Hodge conjecture holds.\\n\\nΣ,X be the quasi-smooth hypersurface Σ . Then on Y\\n\\nProof. If H k,k proposition H k,k\\n\\nprim(X, Q) = 0 we are done. So let us assume H k,k\\n\\nprim(X, Q) ≠ 0. By the Cayley prim(X, Q) and by the (1, 1)-Lefschetz theorem for projective\\n\\nprim(Y, Q) ≃ H 1,1\\n\\n6\\n\\ntoric orbifolds there is a non-zero algebraic basis λC1, . . . , λCn with rational coeﬃcients of H 1,1 prim(X, Q) algebraic curves C1, . . . , Cn in X such that under the Poincar´e duality the class in homology [Ci] goes to λCi, [Ci] ↦ λCi. Recall that the Cox ring of Pk+2 is contained in the Cox ring of P2k+1 Σ,X without considering the Σ ) then (α, 0) ∈ Cl(P2k+1 grading. Considering the grading we have that if α ∈ Cl(Pk+2 Σ,X ). So the polynomials deﬁning Ci ⊂ Pk+2 X,Σ but with diﬀerent degree. Moreover, by Remark 4.1 each Ci is contained in Y = {F = y1f1 + ⋯ + ykfk = 0} and furthermore it has codimension k.\\n\\nprim(X, Q), that is, there are n ∶= h1,1\\n\\ncan be interpreted in P2k+1\\n\\nΣ\\n\\ni=1 is a basis of H k,k It is enough to prove that λCi is diﬀerent from zero in H k,k prim(Y, Q) or equivalently that the cohomology classes {λCi}n i=1 do not come from the ambient space. By contradiction, let us assume that there exists a j and C ⊂ P2k+1 Σ,X , Q) with i∗(λC) = λCj or in terms of homology there exists a (k + 2)-dimensional algebraic subvariety V ⊂ P2k+1 Σ,X such that V ∩ Y = Cj so they are equal as a homology class of P2k+1 Σ,X ,i.e., [V ∩ Y ] = [Cj] . Σ where π ∶ (x, y) ↦ x. Hence It is easy to check that π(V ) ∩ X = Cj as a subvariety of Pk+2 [π(V ) ∩ X] = [Cj] which is equivalent to say that λCj comes from Pk+2 Σ which contradicts the choice of [Cj].\\n\\nClaim: {λCi}n\\n\\nprim(Y, Q).\\n\\nΣ,X such that λC ∈ H k,k(P2k+1\\n\\nRemark 5.2. Into the proof of the previous theorem, the key fact was that on X the Hodge conjecture holds and we translate it to Y by contradiction. So, using an analogous argument we have:\\n\\n△\\n\\nProposition 5.3. Let Y = {F = y1fs+⋯+ysfs = 0} ⊂ P2k+1 associated to a quasi-smooth intersection subvariety X = Xf1 ∩ ⋅ ⋅ ⋅ ∩ Xfs ⊂ Pd d + s = 2(k + 1). If the Hodge conjecture holds on X then it holds as well on Y .\\n\\nΣ,X be the quasi-smooth hypersurface Σ such that\\n\\nCorollary 5.4. If the dimension of Y is 2s − 1, 2s or 2s + 1 then the Hodge conjecture holds on Y .\\n\\nProof. By Proposition 5.3 and Corollary 3.6.\\n\\n7\\n\\nReferences\\n\\n[1] Angella, D. Cohomologies of certain orbifolds. Journal of Geometry and Physics\\n\\n71 (2013), 117–126.\\n\\n[2] Batyrev, V. V., and Cox, D. A. On the Hodge structure of projective hypersur-\\n\\nfaces in toric varieties. Duke Mathematical Journal 75, 2 (Aug 1994).\\n\\n[3] Bruzzo, U., and Montoya, W. On the Hodge conjecture for quasi-smooth in- tersections in toric varieties. S˜ao Paulo J. Math. Sci. Special Section: Geometry in Algebra and Algebra in Geometry (2021).\\n\\n[4] Caramello Jr, F. C. Introduction to orbifolds. arXiv:1909.08699v6 (2019).\\n\\n[5] Cox, D., Little, J., and Schenck, H. Toric varieties, vol. 124. American Math-\\n\\nematical Soc., 2011.\\n\\n[6] Griffiths, P., and Harris, J. Principles of Algebraic Geometry. John Wiley &\\n\\nSons, Ltd, 1978.\\n\\n[7] Mavlyutov, A. R. Cohomology of complete intersections in toric varieties. Pub-\\n\\nlished in Paciﬁc J. of Math. 191 No. 1 (1999), 133–144.\\n\\n[8] Satake, I. On a Generalization of the Notion of Manifold. Proceedings of the National Academy of Sciences of the United States of America 42, 6 (1956), 359–363.\\n\\n[9] Steenbrink, J. H. M. Intersection form for quasi-homogeneous singularities. Com-\\n\\npositio Mathematica 34, 2 (1977), 211–223.\\n\\n[10] Voisin, C. Hodge Theory and Complex Algebraic Geometry I, vol. 1 of Cambridge\\n\\nStudies in Advanced Mathematics. Cambridge University Press, 2002.\\n\\n[11] Wang, Z. Z., and Zaffran, D. A remark on the Hard Lefschetz theorem for K¨ahler orbifolds. Proceedings of the American Mathematical Society 137, 08 (Aug 2009).\\n\\n8', metadata={'source': '/tmp/tmpxlrnd2xq'})]"
            ]
          },
          "metadata": {},
          "execution_count": 10
        }
      ]
    },
    {
      "cell_type": "markdown",
      "source": [
        "## Create an index and query for information in the online PDF and Download more digital magnifying glasses from OpenAI"
      ],
      "metadata": {
        "id": "n9Heh-F-kPFr"
      }
    },
    {
      "cell_type": "code",
      "source": [
        "# Download embeddings from OpenAI\n",
        "embeddings = OpenAIEmbeddings()"
      ],
      "metadata": {
        "id": "E1rhESFpiuhM"
      },
      "execution_count": null,
      "outputs": []
    },
    {
      "cell_type": "markdown",
      "source": [
        "* Install a tool for improved performance"
      ],
      "metadata": {
        "id": "pdq5_Q5ekg-i"
      }
    },
    {
      "cell_type": "code",
      "source": [
        "!pip install chromadb"
      ],
      "metadata": {
        "colab": {
          "base_uri": "https://localhost:8080/",
          "height": 1000
        },
        "id": "ATd5EcnWjSms",
        "outputId": "df7128f5-068f-4671-f2e2-cecc850fa11c"
      },
      "execution_count": null,
      "outputs": [
        {
          "output_type": "stream",
          "name": "stdout",
          "text": [
            "Looking in indexes: https://pypi.org/simple, https://us-python.pkg.dev/colab-wheels/public/simple/\n",
            "Collecting chromadb\n",
            "  Downloading chromadb-0.3.26-py3-none-any.whl (123 kB)\n",
            "\u001b[2K     \u001b[90m━━━━━━━━━━━━━━━━━━━━━━━━━━━━━━━━━━━━━━━\u001b[0m \u001b[32m123.6/123.6 kB\u001b[0m \u001b[31m4.3 MB/s\u001b[0m eta \u001b[36m0:00:00\u001b[0m\n",
            "\u001b[?25hRequirement already satisfied: pandas>=1.3 in /usr/local/lib/python3.10/dist-packages (from chromadb) (1.5.3)\n",
            "Collecting requests>=2.28 (from chromadb)\n",
            "  Downloading requests-2.31.0-py3-none-any.whl (62 kB)\n",
            "\u001b[2K     \u001b[90m━━━━━━━━━━━━━━━━━━━━━━━━━━━━━━━━━━━━━━━━\u001b[0m \u001b[32m62.6/62.6 kB\u001b[0m \u001b[31m7.3 MB/s\u001b[0m eta \u001b[36m0:00:00\u001b[0m\n",
            "\u001b[?25hRequirement already satisfied: pydantic>=1.9 in /usr/local/lib/python3.10/dist-packages (from chromadb) (1.10.7)\n",
            "Collecting hnswlib>=0.7 (from chromadb)\n",
            "  Downloading hnswlib-0.7.0.tar.gz (33 kB)\n",
            "  Installing build dependencies ... \u001b[?25l\u001b[?25hdone\n",
            "  Getting requirements to build wheel ... \u001b[?25l\u001b[?25hdone\n",
            "  Preparing metadata (pyproject.toml) ... \u001b[?25l\u001b[?25hdone\n",
            "Collecting clickhouse-connect>=0.5.7 (from chromadb)\n",
            "  Downloading clickhouse_connect-0.6.2-cp310-cp310-manylinux_2_17_x86_64.manylinux2014_x86_64.whl (965 kB)\n",
            "\u001b[2K     \u001b[90m━━━━━━━━━━━━━━━━━━━━━━━━━━━━━━━━━━━━━━\u001b[0m \u001b[32m965.1/965.1 kB\u001b[0m \u001b[31m25.4 MB/s\u001b[0m eta \u001b[36m0:00:00\u001b[0m\n",
            "\u001b[?25hRequirement already satisfied: duckdb>=0.7.1 in /usr/local/lib/python3.10/dist-packages (from chromadb) (0.7.1)\n",
            "Collecting fastapi>=0.85.1 (from chromadb)\n",
            "  Downloading fastapi-0.97.0-py3-none-any.whl (56 kB)\n",
            "\u001b[2K     \u001b[90m━━━━━━━━━━━━━━━━━━━━━━━━━━━━━━━━━━━━━━━━\u001b[0m \u001b[32m57.0/57.0 kB\u001b[0m \u001b[31m7.0 MB/s\u001b[0m eta \u001b[36m0:00:00\u001b[0m\n",
            "\u001b[?25hCollecting uvicorn[standard]>=0.18.3 (from chromadb)\n",
            "  Downloading uvicorn-0.22.0-py3-none-any.whl (58 kB)\n",
            "\u001b[2K     \u001b[90m━━━━━━━━━━━━━━━━━━━━━━━━━━━━━━━━━━━━━━━━\u001b[0m \u001b[32m58.3/58.3 kB\u001b[0m \u001b[31m6.9 MB/s\u001b[0m eta \u001b[36m0:00:00\u001b[0m\n",
            "\u001b[?25hRequirement already satisfied: numpy>=1.21.6 in /usr/local/lib/python3.10/dist-packages (from chromadb) (1.22.4)\n",
            "Collecting posthog>=2.4.0 (from chromadb)\n",
            "  Downloading posthog-3.0.1-py2.py3-none-any.whl (37 kB)\n",
            "Requirement already satisfied: typing-extensions>=4.5.0 in /usr/local/lib/python3.10/dist-packages (from chromadb) (4.5.0)\n",
            "Collecting pulsar-client>=3.1.0 (from chromadb)\n",
            "  Downloading pulsar_client-3.2.0-cp310-cp310-manylinux_2_17_x86_64.manylinux2014_x86_64.whl (5.3 MB)\n",
            "\u001b[2K     \u001b[90m━━━━━━━━━━━━━━━━━━━━━━━━━━━━━━━━━━━━━━━━\u001b[0m \u001b[32m5.3/5.3 MB\u001b[0m \u001b[31m76.3 MB/s\u001b[0m eta \u001b[36m0:00:00\u001b[0m\n",
            "\u001b[?25hCollecting onnxruntime>=1.14.1 (from chromadb)\n",
            "  Downloading onnxruntime-1.15.0-cp310-cp310-manylinux_2_17_x86_64.manylinux2014_x86_64.whl (5.9 MB)\n",
            "\u001b[2K     \u001b[90m━━━━━━━━━━━━━━━━━━━━━━━━━━━━━━━━━━━━━━━━\u001b[0m \u001b[32m5.9/5.9 MB\u001b[0m \u001b[31m75.8 MB/s\u001b[0m eta \u001b[36m0:00:00\u001b[0m\n",
            "\u001b[?25hCollecting tokenizers>=0.13.2 (from chromadb)\n",
            "  Downloading tokenizers-0.13.3-cp310-cp310-manylinux_2_17_x86_64.manylinux2014_x86_64.whl (7.8 MB)\n",
            "\u001b[2K     \u001b[90m━━━━━━━━━━━━━━━━━━━━━━━━━━━━━━━━━━━━━━━━\u001b[0m \u001b[32m7.8/7.8 MB\u001b[0m \u001b[31m59.6 MB/s\u001b[0m eta \u001b[36m0:00:00\u001b[0m\n",
            "\u001b[?25hRequirement already satisfied: tqdm>=4.65.0 in /usr/local/lib/python3.10/dist-packages (from chromadb) (4.65.0)\n",
            "Collecting overrides>=7.3.1 (from chromadb)\n",
            "  Downloading overrides-7.3.1-py3-none-any.whl (17 kB)\n",
            "Requirement already satisfied: certifi in /usr/local/lib/python3.10/dist-packages (from clickhouse-connect>=0.5.7->chromadb) (2022.12.7)\n",
            "Requirement already satisfied: urllib3>=1.26 in /usr/local/lib/python3.10/dist-packages (from clickhouse-connect>=0.5.7->chromadb) (1.26.15)\n",
            "Requirement already satisfied: pytz in /usr/local/lib/python3.10/dist-packages (from clickhouse-connect>=0.5.7->chromadb) (2022.7.1)\n",
            "Collecting zstandard (from clickhouse-connect>=0.5.7->chromadb)\n",
            "  Downloading zstandard-0.21.0-cp310-cp310-manylinux_2_17_x86_64.manylinux2014_x86_64.whl (2.7 MB)\n",
            "\u001b[2K     \u001b[90m━━━━━━━━━━━━━━━━━━━━━━━━━━━━━━━━━━━━━━━━\u001b[0m \u001b[32m2.7/2.7 MB\u001b[0m \u001b[31m80.4 MB/s\u001b[0m eta \u001b[36m0:00:00\u001b[0m\n",
            "\u001b[?25hCollecting lz4 (from clickhouse-connect>=0.5.7->chromadb)\n",
            "  Downloading lz4-4.3.2-cp310-cp310-manylinux_2_17_x86_64.manylinux2014_x86_64.whl (1.3 MB)\n",
            "\u001b[2K     \u001b[90m━━━━━━━━━━━━━━━━━━━━━━━━━━━━━━━━━━━━━━━━\u001b[0m \u001b[32m1.3/1.3 MB\u001b[0m \u001b[31m71.6 MB/s\u001b[0m eta \u001b[36m0:00:00\u001b[0m\n",
            "\u001b[?25hCollecting starlette<0.28.0,>=0.27.0 (from fastapi>=0.85.1->chromadb)\n",
            "  Downloading starlette-0.27.0-py3-none-any.whl (66 kB)\n",
            "\u001b[2K     \u001b[90m━━━━━━━━━━━━━━━━━━━━━━━━━━━━━━━━━━━━━━━━\u001b[0m \u001b[32m67.0/67.0 kB\u001b[0m \u001b[31m8.2 MB/s\u001b[0m eta \u001b[36m0:00:00\u001b[0m\n",
            "\u001b[?25hCollecting coloredlogs (from onnxruntime>=1.14.1->chromadb)\n",
            "  Downloading coloredlogs-15.0.1-py2.py3-none-any.whl (46 kB)\n",
            "\u001b[2K     \u001b[90m━━━━━━━━━━━━━━━━━━━━━━━━━━━━━━━━━━━━━━━━\u001b[0m \u001b[32m46.0/46.0 kB\u001b[0m \u001b[31m5.7 MB/s\u001b[0m eta \u001b[36m0:00:00\u001b[0m\n",
            "\u001b[?25hRequirement already satisfied: flatbuffers in /usr/local/lib/python3.10/dist-packages (from onnxruntime>=1.14.1->chromadb) (23.3.3)\n",
            "Requirement already satisfied: packaging in /usr/local/lib/python3.10/dist-packages (from onnxruntime>=1.14.1->chromadb) (23.1)\n",
            "Requirement already satisfied: protobuf in /usr/local/lib/python3.10/dist-packages (from onnxruntime>=1.14.1->chromadb) (3.20.3)\n",
            "Requirement already satisfied: sympy in /usr/local/lib/python3.10/dist-packages (from onnxruntime>=1.14.1->chromadb) (1.11.1)\n",
            "Requirement already satisfied: python-dateutil>=2.8.1 in /usr/local/lib/python3.10/dist-packages (from pandas>=1.3->chromadb) (2.8.2)\n",
            "Requirement already satisfied: six>=1.5 in /usr/local/lib/python3.10/dist-packages (from posthog>=2.4.0->chromadb) (1.16.0)\n",
            "Requirement already satisfied: monotonic>=1.5 in /usr/local/lib/python3.10/dist-packages (from posthog>=2.4.0->chromadb) (1.6)\n",
            "Requirement already satisfied: backoff>=1.10.0 in /usr/local/lib/python3.10/dist-packages (from posthog>=2.4.0->chromadb) (2.2.1)\n",
            "Requirement already satisfied: charset-normalizer<4,>=2 in /usr/local/lib/python3.10/dist-packages (from requests>=2.28->chromadb) (2.0.12)\n",
            "Requirement already satisfied: idna<4,>=2.5 in /usr/local/lib/python3.10/dist-packages (from requests>=2.28->chromadb) (3.4)\n",
            "Requirement already satisfied: click>=7.0 in /usr/local/lib/python3.10/dist-packages (from uvicorn[standard]>=0.18.3->chromadb) (8.1.3)\n",
            "Requirement already satisfied: h11>=0.8 in /usr/local/lib/python3.10/dist-packages (from uvicorn[standard]>=0.18.3->chromadb) (0.14.0)\n",
            "Collecting httptools>=0.5.0 (from uvicorn[standard]>=0.18.3->chromadb)\n",
            "  Downloading httptools-0.5.0-cp310-cp310-manylinux_2_5_x86_64.manylinux1_x86_64.manylinux_2_17_x86_64.manylinux2014_x86_64.whl (414 kB)\n",
            "\u001b[2K     \u001b[90m━━━━━━━━━━━━━━━━━━━━━━━━━━━━━━━━━━━━━━\u001b[0m \u001b[32m414.1/414.1 kB\u001b[0m \u001b[31m38.0 MB/s\u001b[0m eta \u001b[36m0:00:00\u001b[0m\n",
            "\u001b[?25hCollecting python-dotenv>=0.13 (from uvicorn[standard]>=0.18.3->chromadb)\n",
            "  Downloading python_dotenv-1.0.0-py3-none-any.whl (19 kB)\n",
            "Requirement already satisfied: pyyaml>=5.1 in /usr/local/lib/python3.10/dist-packages (from uvicorn[standard]>=0.18.3->chromadb) (6.0)\n",
            "Collecting uvloop!=0.15.0,!=0.15.1,>=0.14.0 (from uvicorn[standard]>=0.18.3->chromadb)\n",
            "  Downloading uvloop-0.17.0-cp310-cp310-manylinux_2_17_x86_64.manylinux2014_x86_64.whl (4.1 MB)\n",
            "\u001b[2K     \u001b[90m━━━━━━━━━━━━━━━━━━━━━━━━━━━━━━━━━━━━━━━━\u001b[0m \u001b[32m4.1/4.1 MB\u001b[0m \u001b[31m99.5 MB/s\u001b[0m eta \u001b[36m0:00:00\u001b[0m\n",
            "\u001b[?25hCollecting watchfiles>=0.13 (from uvicorn[standard]>=0.18.3->chromadb)\n",
            "  Downloading watchfiles-0.19.0-cp37-abi3-manylinux_2_17_x86_64.manylinux2014_x86_64.whl (1.3 MB)\n",
            "\u001b[2K     \u001b[90m━━━━━━━━━━━━━━━━━━━━━━━━━━━━━━━━━━━━━━━━\u001b[0m \u001b[32m1.3/1.3 MB\u001b[0m \u001b[31m57.7 MB/s\u001b[0m eta \u001b[36m0:00:00\u001b[0m\n",
            "\u001b[?25hCollecting websockets>=10.4 (from uvicorn[standard]>=0.18.3->chromadb)\n",
            "  Downloading websockets-11.0.3-cp310-cp310-manylinux_2_5_x86_64.manylinux1_x86_64.manylinux_2_17_x86_64.manylinux2014_x86_64.whl (129 kB)\n",
            "\u001b[2K     \u001b[90m━━━━━━━━━━━━━━━━━━━━━━━━━━━━━━━━━━━━━━\u001b[0m \u001b[32m129.9/129.9 kB\u001b[0m \u001b[31m15.8 MB/s\u001b[0m eta \u001b[36m0:00:00\u001b[0m\n",
            "\u001b[?25hRequirement already satisfied: anyio<5,>=3.4.0 in /usr/local/lib/python3.10/dist-packages (from starlette<0.28.0,>=0.27.0->fastapi>=0.85.1->chromadb) (3.6.2)\n",
            "Collecting humanfriendly>=9.1 (from coloredlogs->onnxruntime>=1.14.1->chromadb)\n",
            "  Downloading humanfriendly-10.0-py2.py3-none-any.whl (86 kB)\n",
            "\u001b[2K     \u001b[90m━━━━━━━━━━━━━━━━━━━━━━━━━━━━━━━━━━━━━━━━\u001b[0m \u001b[32m86.8/86.8 kB\u001b[0m \u001b[31m10.0 MB/s\u001b[0m eta \u001b[36m0:00:00\u001b[0m\n",
            "\u001b[?25hRequirement already satisfied: mpmath>=0.19 in /usr/local/lib/python3.10/dist-packages (from sympy->onnxruntime>=1.14.1->chromadb) (1.3.0)\n",
            "Requirement already satisfied: sniffio>=1.1 in /usr/local/lib/python3.10/dist-packages (from anyio<5,>=3.4.0->starlette<0.28.0,>=0.27.0->fastapi>=0.85.1->chromadb) (1.3.0)\n",
            "Building wheels for collected packages: hnswlib\n",
            "  Building wheel for hnswlib (pyproject.toml) ... \u001b[?25l\u001b[?25hdone\n",
            "  Created wheel for hnswlib: filename=hnswlib-0.7.0-cp310-cp310-linux_x86_64.whl size=2119882 sha256=a20ea1a1b1014087186caf0fdf3c73e7301a04454d6924b43fcb9672bd859211\n",
            "  Stored in directory: /root/.cache/pip/wheels/8a/ae/ec/235a682e0041fbaeee389843670581ec6c66872db856dfa9a4\n",
            "Successfully built hnswlib\n",
            "Installing collected packages: tokenizers, zstandard, websockets, uvloop, uvicorn, requests, python-dotenv, pulsar-client, overrides, lz4, humanfriendly, httptools, hnswlib, watchfiles, starlette, posthog, coloredlogs, clickhouse-connect, onnxruntime, fastapi, chromadb\n",
            "  Attempting uninstall: requests\n",
            "    Found existing installation: requests 2.27.1\n",
            "    Uninstalling requests-2.27.1:\n",
            "      Successfully uninstalled requests-2.27.1\n",
            "\u001b[31mERROR: pip's dependency resolver does not currently take into account all the packages that are installed. This behaviour is the source of the following dependency conflicts.\n",
            "google-colab 1.0.0 requires requests==2.27.1, but you have requests 2.31.0 which is incompatible.\u001b[0m\u001b[31m\n",
            "\u001b[0mSuccessfully installed chromadb-0.3.26 clickhouse-connect-0.6.2 coloredlogs-15.0.1 fastapi-0.97.0 hnswlib-0.7.0 httptools-0.5.0 humanfriendly-10.0 lz4-4.3.2 onnxruntime-1.15.0 overrides-7.3.1 posthog-3.0.1 pulsar-client-3.2.0 python-dotenv-1.0.0 requests-2.31.0 starlette-0.27.0 tokenizers-0.13.3 uvicorn-0.22.0 uvloop-0.17.0 watchfiles-0.19.0 websockets-11.0.3 zstandard-0.21.0\n"
          ]
        },
        {
          "output_type": "display_data",
          "data": {
            "application/vnd.colab-display-data+json": {
              "pip_warning": {
                "packages": [
                  "requests"
                ]
              }
            }
          },
          "metadata": {}
        }
      ]
    },
    {
      "cell_type": "markdown",
      "source": [
        "* Create an index to search for information in the online PDF"
      ],
      "metadata": {
        "id": "hYHfmjZEkmQF"
      }
    },
    {
      "cell_type": "code",
      "source": [
        "from langchain.indexes import VectorstoreIndexCreator\n",
        "index = VectorstoreIndexCreator().from_loaders([loader])"
      ],
      "metadata": {
        "id": "yxEkGIs2iwjg"
      },
      "execution_count": null,
      "outputs": []
    },
    {
      "cell_type": "markdown",
      "source": [
        "* Now, lets ask away about \"Attention\" from that publication. Perform a text query on the index"
      ],
      "metadata": {
        "id": "S763pjFhiuf4"
      }
    },
    {
      "cell_type": "code",
      "source": [
        "query = \"Explain me about Attention is all you need\"\n",
        "index.query(query)"
      ],
      "metadata": {
        "colab": {
          "base_uri": "https://localhost:8080/",
          "height": 122
        },
        "id": "rr8jJKjYi9k7",
        "outputId": "10a6c66d-6905-4a97-c85b-269b84cf8a73"
      },
      "execution_count": null,
      "outputs": [
        {
          "output_type": "execute_result",
          "data": {
            "text/plain": [
              "' Attention is All You Need is a paper published in 2017 by researchers from Google Brain. The paper introduces the Transformer, a model architecture that relies entirely on an attention mechanism to draw global dependencies between input and output, instead of using recurrence. The Transformer allows for significantly more parallelization and can reach a new state of the art in translation quality after being trained for as little as twelve hours on eight P100 GPUs. Additionally, self-attention could yield more interpretable models.'"
            ],
            "application/vnd.google.colaboratory.intrinsic+json": {
              "type": "string"
            }
          },
          "metadata": {},
          "execution_count": 23
        }
      ]
    },
    {
      "cell_type": "markdown",
      "source": [
        "# **There you go!**\n",
        "\n",
        "Now our tool is ready to be used in whatever you want to ask!\n",
        "\n",
        "**Enjoy!** ~Kokke\n",
        "\n"
      ],
      "metadata": {
        "id": "U6iGBz10jTKs"
      }
    },
    {
      "cell_type": "code",
      "source": [],
      "metadata": {
        "id": "dAJwLxfJjz3M"
      },
      "execution_count": null,
      "outputs": []
    }
  ]
}